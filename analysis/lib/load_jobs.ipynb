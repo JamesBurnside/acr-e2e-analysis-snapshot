{
 "cells": [
  {
   "cell_type": "markdown",
   "metadata": {},
   "source": [
    "# Helper to load cleaned workflow jobs data\n",
    "\n",
    "Output:\n",
    "* `jobs`: All rows in the jobs data\n",
    "* `e2e_jobs`: Only test jobs\n",
    "* `e2e_jobs_no_steps`: Only one row per test jobs, deduping across steps."
   ]
  },
  {
   "cell_type": "code",
   "execution_count": null,
   "metadata": {},
   "outputs": [],
   "source": [
    "# Load and parse raw data.\n",
    "with open('../data/cleaned/jobs.json') as f:\n",
    "    jobs = pd.read_json(\n",
    "        f, \n",
    "        convert_dates=[\n",
    "            'job_started_at',\n",
    "            'job_completed_at',\n",
    "            'step_started_at',\n",
    "            'step_completed_at',\n",
    "            'job_started_date',\n",
    "            ],\n",
    "        )\n",
    "print('Loaded jobs with %d rows. Columns:' % (jobs.shape[0],))\n",
    "print(jobs.dtypes)"
   ]
  },
  {
   "cell_type": "code",
   "execution_count": null,
   "metadata": {},
   "outputs": [],
   "source": [
    "# Filter down to test jobs\n",
    "e2e_jobs = jobs[jobs['e2e-composite'].notnull()]\n",
    "print('Filtered down to test jobs with %d rows.' % (e2e_jobs.shape[0],))"
   ]
  },
  {
   "cell_type": "code",
   "execution_count": null,
   "metadata": {},
   "outputs": [],
   "source": [
    "# Each job has multiple steps. Drop down to one row per job.\n",
    "e2e_jobs_no_steps = e2e_jobs[[\n",
    "    'workflow_id',\n",
    "    'workflow_run_attempt',\n",
    "    'job_status',\n",
    "    'job_conclusion',\n",
    "    'job_started_at',\n",
    "    'job_completed_at',\n",
    "    'job_name',\n",
    "    'job_started_date',\n",
    "    'job_duration_minutes',\n",
    "    'workflow_attempt_uid',\n",
    "    'e2e-composite',\n",
    "    'e2e-flavor']].drop_duplicates()\n",
    "\n",
    "print('Dropped down to one row per job with %d rows. Columns:' % (e2e_jobs_no_steps.shape[0],))\n",
    "print(e2e_jobs_no_steps.dtypes)"
   ]
  }
 ],
 "metadata": {
  "kernelspec": {
   "display_name": "Python 3.10.5 ('e2eanalysis')",
   "language": "python",
   "name": "python3"
  },
  "language_info": {
   "name": "python",
   "version": "3.10.5"
  },
  "orig_nbformat": 4,
  "vscode": {
   "interpreter": {
    "hash": "c3b05de2005fd981399e64c7fa718f103e153aa6eb6a36e3fed7a3ca3494229e"
   }
  }
 },
 "nbformat": 4,
 "nbformat_minor": 2
}
