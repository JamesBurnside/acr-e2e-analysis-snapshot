{
 "cells": [
  {
   "cell_type": "code",
   "execution_count": 1,
   "metadata": {},
   "outputs": [],
   "source": [
    "TEST_NAME = 'call/Rooms CallScreen tests for different roles/Only few CallControls are enabled for Consumer with remote participants'\n",
    "OUT_FILE = 'flaky_room_call_screen'"
   ]
  },
  {
   "cell_type": "code",
   "execution_count": 2,
   "metadata": {},
   "outputs": [
    {
     "name": "stdout",
     "output_type": "stream",
     "text": [
      "Loaded tests with 1138050 rows. Columns:\n",
      "meta_id                                  int64\n",
      "workflow_id                              int64\n",
      "workflow_run_number                      int64\n",
      "workflow_run_attempt                     int64\n",
      "workflow_created_at        datetime64[ns, UTC]\n",
      "workflow_event                          object\n",
      "workflow_head_branch                    object\n",
      "commit_sha                              object\n",
      "build_flavor                            object\n",
      "composite                               object\n",
      "pw_suite_title                          object\n",
      "pw_spec_title                           object\n",
      "pw_test_project_name                    object\n",
      "pw_test_expected_status                 object\n",
      "pw_test_status                          object\n",
      "pw_result_status                        object\n",
      "pw_result_duration                       int64\n",
      "pw_result_retry                          int64\n",
      "dtype: object\n",
      "meta_id                                  int64\n",
      "workflow_id                              int64\n",
      "workflow_run_number                      int64\n",
      "workflow_run_attempt                     int64\n",
      "workflow_created_at        datetime64[ns, UTC]\n",
      "workflow_event                          object\n",
      "workflow_head_branch                    object\n",
      "commit_sha                              object\n",
      "build_flavor                            object\n",
      "composite                               object\n",
      "pw_suite_title                          object\n",
      "pw_spec_title                           object\n",
      "pw_test_project_name                    object\n",
      "pw_test_expected_status                 object\n",
      "pw_test_status                          object\n",
      "pw_result_status                        object\n",
      "pw_result_duration                       int64\n",
      "pw_result_retry                          int64\n",
      "workflow_created_date      datetime64[ns, UTC]\n",
      "test_uid                                object\n",
      "dtype: object\n"
     ]
    },
    {
     "name": "stderr",
     "output_type": "stream",
     "text": [
      "C:\\Users\\prprabhu\\AppData\\Local\\Temp\\ipykernel_3556\\1678118337.py:3: SettingWithCopyWarning: \n",
      "A value is trying to be set on a copy of a slice from a DataFrame.\n",
      "Try using .loc[row_indexer,col_indexer] = value instead\n",
      "\n",
      "See the caveats in the documentation: https://pandas.pydata.org/pandas-docs/stable/user_guide/indexing.html#returning-a-view-versus-a-copy\n",
      "  df['url'] = df.apply(lambda x: 'https://github.com/Azure/communication-ui-library/actions/runs/{}'.format(x['workflow_id'],), axis=1)\n"
     ]
    },
    {
     "data": {
      "application/vnd.plotly.v1+json": {
       "config": {
        "plotlyServerURL": "https://plot.ly"
       },
       "data": [
        {
         "hovertemplate": "Browser=Desktop Chrome<br>workflow created within last 1 days of=%{x}<br>Success ratio (percent)=%{y}<extra></extra>",
         "legendgroup": "Desktop Chrome",
         "line": {
          "color": "#636efa",
          "dash": "solid"
         },
         "marker": {
          "symbol": "circle"
         },
         "mode": "markers+lines",
         "name": "Desktop Chrome",
         "orientation": "v",
         "showlegend": true,
         "type": "scatter",
         "x": [
          "2022-11-04T00:00:00+00:00"
         ],
         "xaxis": "x",
         "y": [
          100
         ],
         "yaxis": "y"
        }
       ],
       "layout": {
        "legend": {
         "title": {
          "text": "Browser"
         },
         "tracegroupgap": 0
        },
        "template": {
         "data": {
          "bar": [
           {
            "error_x": {
             "color": "#2a3f5f"
            },
            "error_y": {
             "color": "#2a3f5f"
            },
            "marker": {
             "line": {
              "color": "#E5ECF6",
              "width": 0.5
             },
             "pattern": {
              "fillmode": "overlay",
              "size": 10,
              "solidity": 0.2
             }
            },
            "type": "bar"
           }
          ],
          "barpolar": [
           {
            "marker": {
             "line": {
              "color": "#E5ECF6",
              "width": 0.5
             },
             "pattern": {
              "fillmode": "overlay",
              "size": 10,
              "solidity": 0.2
             }
            },
            "type": "barpolar"
           }
          ],
          "carpet": [
           {
            "aaxis": {
             "endlinecolor": "#2a3f5f",
             "gridcolor": "white",
             "linecolor": "white",
             "minorgridcolor": "white",
             "startlinecolor": "#2a3f5f"
            },
            "baxis": {
             "endlinecolor": "#2a3f5f",
             "gridcolor": "white",
             "linecolor": "white",
             "minorgridcolor": "white",
             "startlinecolor": "#2a3f5f"
            },
            "type": "carpet"
           }
          ],
          "choropleth": [
           {
            "colorbar": {
             "outlinewidth": 0,
             "ticks": ""
            },
            "type": "choropleth"
           }
          ],
          "contour": [
           {
            "colorbar": {
             "outlinewidth": 0,
             "ticks": ""
            },
            "colorscale": [
             [
              0,
              "#0d0887"
             ],
             [
              0.1111111111111111,
              "#46039f"
             ],
             [
              0.2222222222222222,
              "#7201a8"
             ],
             [
              0.3333333333333333,
              "#9c179e"
             ],
             [
              0.4444444444444444,
              "#bd3786"
             ],
             [
              0.5555555555555556,
              "#d8576b"
             ],
             [
              0.6666666666666666,
              "#ed7953"
             ],
             [
              0.7777777777777778,
              "#fb9f3a"
             ],
             [
              0.8888888888888888,
              "#fdca26"
             ],
             [
              1,
              "#f0f921"
             ]
            ],
            "type": "contour"
           }
          ],
          "contourcarpet": [
           {
            "colorbar": {
             "outlinewidth": 0,
             "ticks": ""
            },
            "type": "contourcarpet"
           }
          ],
          "heatmap": [
           {
            "colorbar": {
             "outlinewidth": 0,
             "ticks": ""
            },
            "colorscale": [
             [
              0,
              "#0d0887"
             ],
             [
              0.1111111111111111,
              "#46039f"
             ],
             [
              0.2222222222222222,
              "#7201a8"
             ],
             [
              0.3333333333333333,
              "#9c179e"
             ],
             [
              0.4444444444444444,
              "#bd3786"
             ],
             [
              0.5555555555555556,
              "#d8576b"
             ],
             [
              0.6666666666666666,
              "#ed7953"
             ],
             [
              0.7777777777777778,
              "#fb9f3a"
             ],
             [
              0.8888888888888888,
              "#fdca26"
             ],
             [
              1,
              "#f0f921"
             ]
            ],
            "type": "heatmap"
           }
          ],
          "heatmapgl": [
           {
            "colorbar": {
             "outlinewidth": 0,
             "ticks": ""
            },
            "colorscale": [
             [
              0,
              "#0d0887"
             ],
             [
              0.1111111111111111,
              "#46039f"
             ],
             [
              0.2222222222222222,
              "#7201a8"
             ],
             [
              0.3333333333333333,
              "#9c179e"
             ],
             [
              0.4444444444444444,
              "#bd3786"
             ],
             [
              0.5555555555555556,
              "#d8576b"
             ],
             [
              0.6666666666666666,
              "#ed7953"
             ],
             [
              0.7777777777777778,
              "#fb9f3a"
             ],
             [
              0.8888888888888888,
              "#fdca26"
             ],
             [
              1,
              "#f0f921"
             ]
            ],
            "type": "heatmapgl"
           }
          ],
          "histogram": [
           {
            "marker": {
             "pattern": {
              "fillmode": "overlay",
              "size": 10,
              "solidity": 0.2
             }
            },
            "type": "histogram"
           }
          ],
          "histogram2d": [
           {
            "colorbar": {
             "outlinewidth": 0,
             "ticks": ""
            },
            "colorscale": [
             [
              0,
              "#0d0887"
             ],
             [
              0.1111111111111111,
              "#46039f"
             ],
             [
              0.2222222222222222,
              "#7201a8"
             ],
             [
              0.3333333333333333,
              "#9c179e"
             ],
             [
              0.4444444444444444,
              "#bd3786"
             ],
             [
              0.5555555555555556,
              "#d8576b"
             ],
             [
              0.6666666666666666,
              "#ed7953"
             ],
             [
              0.7777777777777778,
              "#fb9f3a"
             ],
             [
              0.8888888888888888,
              "#fdca26"
             ],
             [
              1,
              "#f0f921"
             ]
            ],
            "type": "histogram2d"
           }
          ],
          "histogram2dcontour": [
           {
            "colorbar": {
             "outlinewidth": 0,
             "ticks": ""
            },
            "colorscale": [
             [
              0,
              "#0d0887"
             ],
             [
              0.1111111111111111,
              "#46039f"
             ],
             [
              0.2222222222222222,
              "#7201a8"
             ],
             [
              0.3333333333333333,
              "#9c179e"
             ],
             [
              0.4444444444444444,
              "#bd3786"
             ],
             [
              0.5555555555555556,
              "#d8576b"
             ],
             [
              0.6666666666666666,
              "#ed7953"
             ],
             [
              0.7777777777777778,
              "#fb9f3a"
             ],
             [
              0.8888888888888888,
              "#fdca26"
             ],
             [
              1,
              "#f0f921"
             ]
            ],
            "type": "histogram2dcontour"
           }
          ],
          "mesh3d": [
           {
            "colorbar": {
             "outlinewidth": 0,
             "ticks": ""
            },
            "type": "mesh3d"
           }
          ],
          "parcoords": [
           {
            "line": {
             "colorbar": {
              "outlinewidth": 0,
              "ticks": ""
             }
            },
            "type": "parcoords"
           }
          ],
          "pie": [
           {
            "automargin": true,
            "type": "pie"
           }
          ],
          "scatter": [
           {
            "fillpattern": {
             "fillmode": "overlay",
             "size": 10,
             "solidity": 0.2
            },
            "type": "scatter"
           }
          ],
          "scatter3d": [
           {
            "line": {
             "colorbar": {
              "outlinewidth": 0,
              "ticks": ""
             }
            },
            "marker": {
             "colorbar": {
              "outlinewidth": 0,
              "ticks": ""
             }
            },
            "type": "scatter3d"
           }
          ],
          "scattercarpet": [
           {
            "marker": {
             "colorbar": {
              "outlinewidth": 0,
              "ticks": ""
             }
            },
            "type": "scattercarpet"
           }
          ],
          "scattergeo": [
           {
            "marker": {
             "colorbar": {
              "outlinewidth": 0,
              "ticks": ""
             }
            },
            "type": "scattergeo"
           }
          ],
          "scattergl": [
           {
            "marker": {
             "colorbar": {
              "outlinewidth": 0,
              "ticks": ""
             }
            },
            "type": "scattergl"
           }
          ],
          "scattermapbox": [
           {
            "marker": {
             "colorbar": {
              "outlinewidth": 0,
              "ticks": ""
             }
            },
            "type": "scattermapbox"
           }
          ],
          "scatterpolar": [
           {
            "marker": {
             "colorbar": {
              "outlinewidth": 0,
              "ticks": ""
             }
            },
            "type": "scatterpolar"
           }
          ],
          "scatterpolargl": [
           {
            "marker": {
             "colorbar": {
              "outlinewidth": 0,
              "ticks": ""
             }
            },
            "type": "scatterpolargl"
           }
          ],
          "scatterternary": [
           {
            "marker": {
             "colorbar": {
              "outlinewidth": 0,
              "ticks": ""
             }
            },
            "type": "scatterternary"
           }
          ],
          "surface": [
           {
            "colorbar": {
             "outlinewidth": 0,
             "ticks": ""
            },
            "colorscale": [
             [
              0,
              "#0d0887"
             ],
             [
              0.1111111111111111,
              "#46039f"
             ],
             [
              0.2222222222222222,
              "#7201a8"
             ],
             [
              0.3333333333333333,
              "#9c179e"
             ],
             [
              0.4444444444444444,
              "#bd3786"
             ],
             [
              0.5555555555555556,
              "#d8576b"
             ],
             [
              0.6666666666666666,
              "#ed7953"
             ],
             [
              0.7777777777777778,
              "#fb9f3a"
             ],
             [
              0.8888888888888888,
              "#fdca26"
             ],
             [
              1,
              "#f0f921"
             ]
            ],
            "type": "surface"
           }
          ],
          "table": [
           {
            "cells": {
             "fill": {
              "color": "#EBF0F8"
             },
             "line": {
              "color": "white"
             }
            },
            "header": {
             "fill": {
              "color": "#C8D4E3"
             },
             "line": {
              "color": "white"
             }
            },
            "type": "table"
           }
          ]
         },
         "layout": {
          "annotationdefaults": {
           "arrowcolor": "#2a3f5f",
           "arrowhead": 0,
           "arrowwidth": 1
          },
          "autotypenumbers": "strict",
          "coloraxis": {
           "colorbar": {
            "outlinewidth": 0,
            "ticks": ""
           }
          },
          "colorscale": {
           "diverging": [
            [
             0,
             "#8e0152"
            ],
            [
             0.1,
             "#c51b7d"
            ],
            [
             0.2,
             "#de77ae"
            ],
            [
             0.3,
             "#f1b6da"
            ],
            [
             0.4,
             "#fde0ef"
            ],
            [
             0.5,
             "#f7f7f7"
            ],
            [
             0.6,
             "#e6f5d0"
            ],
            [
             0.7,
             "#b8e186"
            ],
            [
             0.8,
             "#7fbc41"
            ],
            [
             0.9,
             "#4d9221"
            ],
            [
             1,
             "#276419"
            ]
           ],
           "sequential": [
            [
             0,
             "#0d0887"
            ],
            [
             0.1111111111111111,
             "#46039f"
            ],
            [
             0.2222222222222222,
             "#7201a8"
            ],
            [
             0.3333333333333333,
             "#9c179e"
            ],
            [
             0.4444444444444444,
             "#bd3786"
            ],
            [
             0.5555555555555556,
             "#d8576b"
            ],
            [
             0.6666666666666666,
             "#ed7953"
            ],
            [
             0.7777777777777778,
             "#fb9f3a"
            ],
            [
             0.8888888888888888,
             "#fdca26"
            ],
            [
             1,
             "#f0f921"
            ]
           ],
           "sequentialminus": [
            [
             0,
             "#0d0887"
            ],
            [
             0.1111111111111111,
             "#46039f"
            ],
            [
             0.2222222222222222,
             "#7201a8"
            ],
            [
             0.3333333333333333,
             "#9c179e"
            ],
            [
             0.4444444444444444,
             "#bd3786"
            ],
            [
             0.5555555555555556,
             "#d8576b"
            ],
            [
             0.6666666666666666,
             "#ed7953"
            ],
            [
             0.7777777777777778,
             "#fb9f3a"
            ],
            [
             0.8888888888888888,
             "#fdca26"
            ],
            [
             1,
             "#f0f921"
            ]
           ]
          },
          "colorway": [
           "#636efa",
           "#EF553B",
           "#00cc96",
           "#ab63fa",
           "#FFA15A",
           "#19d3f3",
           "#FF6692",
           "#B6E880",
           "#FF97FF",
           "#FECB52"
          ],
          "font": {
           "color": "#2a3f5f"
          },
          "geo": {
           "bgcolor": "white",
           "lakecolor": "white",
           "landcolor": "#E5ECF6",
           "showlakes": true,
           "showland": true,
           "subunitcolor": "white"
          },
          "hoverlabel": {
           "align": "left"
          },
          "hovermode": "closest",
          "mapbox": {
           "style": "light"
          },
          "paper_bgcolor": "white",
          "plot_bgcolor": "#E5ECF6",
          "polar": {
           "angularaxis": {
            "gridcolor": "white",
            "linecolor": "white",
            "ticks": ""
           },
           "bgcolor": "#E5ECF6",
           "radialaxis": {
            "gridcolor": "white",
            "linecolor": "white",
            "ticks": ""
           }
          },
          "scene": {
           "xaxis": {
            "backgroundcolor": "#E5ECF6",
            "gridcolor": "white",
            "gridwidth": 2,
            "linecolor": "white",
            "showbackground": true,
            "ticks": "",
            "zerolinecolor": "white"
           },
           "yaxis": {
            "backgroundcolor": "#E5ECF6",
            "gridcolor": "white",
            "gridwidth": 2,
            "linecolor": "white",
            "showbackground": true,
            "ticks": "",
            "zerolinecolor": "white"
           },
           "zaxis": {
            "backgroundcolor": "#E5ECF6",
            "gridcolor": "white",
            "gridwidth": 2,
            "linecolor": "white",
            "showbackground": true,
            "ticks": "",
            "zerolinecolor": "white"
           }
          },
          "shapedefaults": {
           "line": {
            "color": "#2a3f5f"
           }
          },
          "ternary": {
           "aaxis": {
            "gridcolor": "white",
            "linecolor": "white",
            "ticks": ""
           },
           "baxis": {
            "gridcolor": "white",
            "linecolor": "white",
            "ticks": ""
           },
           "bgcolor": "#E5ECF6",
           "caxis": {
            "gridcolor": "white",
            "linecolor": "white",
            "ticks": ""
           }
          },
          "title": {
           "x": 0.05
          },
          "xaxis": {
           "automargin": true,
           "gridcolor": "white",
           "linecolor": "white",
           "ticks": "",
           "title": {
            "standoff": 15
           },
           "zerolinecolor": "white",
           "zerolinewidth": 2
          },
          "yaxis": {
           "automargin": true,
           "gridcolor": "white",
           "linecolor": "white",
           "ticks": "",
           "title": {
            "standoff": 15
           },
           "zerolinecolor": "white",
           "zerolinewidth": 2
          }
         }
        },
        "title": {
         "text": "Success rate of test despite retries (postsubmit)"
        },
        "xaxis": {
         "anchor": "y",
         "domain": [
          0,
          1
         ],
         "title": {
          "text": "workflow created within last 1 days of"
         }
        },
        "yaxis": {
         "anchor": "x",
         "domain": [
          0,
          1
         ],
         "title": {
          "text": "Success ratio (percent)"
         }
        }
       }
      }
     },
     "metadata": {},
     "output_type": "display_data"
    },
    {
     "data": {
      "application/vnd.plotly.v1+json": {
       "config": {
        "plotlyServerURL": "https://plot.ly"
       },
       "data": [
        {
         "hovertemplate": "Browser=Desktop Chrome<br>workflow created within last 1 days of=%{x}<br>Success ratio (percent)=%{y}<extra></extra>",
         "legendgroup": "Desktop Chrome",
         "line": {
          "color": "#636efa",
          "dash": "solid"
         },
         "marker": {
          "symbol": "circle"
         },
         "mode": "markers+lines",
         "name": "Desktop Chrome",
         "orientation": "v",
         "showlegend": true,
         "type": "scatter",
         "x": [
          "2022-08-18T00:00:00+00:00",
          "2022-08-19T00:00:00+00:00",
          "2022-08-22T00:00:00+00:00",
          "2022-08-23T00:00:00+00:00",
          "2022-08-24T00:00:00+00:00",
          "2022-08-25T00:00:00+00:00",
          "2022-08-26T00:00:00+00:00",
          "2022-08-27T00:00:00+00:00",
          "2022-08-29T00:00:00+00:00",
          "2022-08-30T00:00:00+00:00",
          "2022-08-31T00:00:00+00:00",
          "2022-09-01T00:00:00+00:00",
          "2022-09-02T00:00:00+00:00",
          "2022-09-06T00:00:00+00:00",
          "2022-09-07T00:00:00+00:00",
          "2022-09-08T00:00:00+00:00",
          "2022-09-09T00:00:00+00:00",
          "2022-09-10T00:00:00+00:00",
          "2022-09-13T00:00:00+00:00",
          "2022-09-14T00:00:00+00:00",
          "2022-09-15T00:00:00+00:00",
          "2022-09-16T00:00:00+00:00",
          "2022-09-19T00:00:00+00:00",
          "2022-09-20T00:00:00+00:00",
          "2022-09-28T00:00:00+00:00",
          "2022-09-29T00:00:00+00:00",
          "2022-09-30T00:00:00+00:00",
          "2022-10-03T00:00:00+00:00",
          "2022-10-04T00:00:00+00:00",
          "2022-10-05T00:00:00+00:00",
          "2022-10-06T00:00:00+00:00",
          "2022-10-07T00:00:00+00:00",
          "2022-10-12T00:00:00+00:00",
          "2022-10-13T00:00:00+00:00",
          "2022-10-14T00:00:00+00:00",
          "2022-10-17T00:00:00+00:00",
          "2022-10-18T00:00:00+00:00",
          "2022-10-19T00:00:00+00:00",
          "2022-10-20T00:00:00+00:00",
          "2022-10-21T00:00:00+00:00",
          "2022-10-24T00:00:00+00:00",
          "2022-10-25T00:00:00+00:00",
          "2022-10-26T00:00:00+00:00",
          "2022-10-27T00:00:00+00:00",
          "2022-10-28T00:00:00+00:00",
          "2022-10-31T00:00:00+00:00",
          "2022-11-01T00:00:00+00:00",
          "2022-11-02T00:00:00+00:00",
          "2022-11-03T00:00:00+00:00",
          "2022-11-04T00:00:00+00:00",
          "2022-11-07T00:00:00+00:00",
          "2022-11-08T00:00:00+00:00",
          "2022-11-09T00:00:00+00:00",
          "2022-11-10T00:00:00+00:00",
          "2022-11-14T00:00:00+00:00",
          "2022-11-15T00:00:00+00:00",
          "2022-11-16T00:00:00+00:00"
         ],
         "xaxis": "x",
         "y": [
          100,
          100,
          100,
          100,
          100,
          100,
          100,
          100,
          100,
          100,
          100,
          100,
          100,
          100,
          100,
          100,
          100,
          100,
          100,
          100,
          100,
          100,
          100,
          100,
          100,
          100,
          100,
          100,
          100,
          100,
          100,
          100,
          100,
          100,
          100,
          100,
          100,
          100,
          100,
          100,
          100,
          100,
          100,
          100,
          100,
          100,
          100,
          100,
          100,
          90.47619047619048,
          100,
          100,
          100,
          100,
          100,
          100,
          100
         ],
         "yaxis": "y"
        },
        {
         "hovertemplate": "Browser=Mobile Android Landscape<br>workflow created within last 1 days of=%{x}<br>Success ratio (percent)=%{y}<extra></extra>",
         "legendgroup": "Mobile Android Landscape",
         "line": {
          "color": "#EF553B",
          "dash": "solid"
         },
         "marker": {
          "symbol": "circle"
         },
         "mode": "markers+lines",
         "name": "Mobile Android Landscape",
         "orientation": "v",
         "showlegend": true,
         "type": "scatter",
         "x": [
          "2022-08-18T00:00:00+00:00",
          "2022-08-19T00:00:00+00:00",
          "2022-08-22T00:00:00+00:00",
          "2022-08-23T00:00:00+00:00",
          "2022-08-24T00:00:00+00:00",
          "2022-08-25T00:00:00+00:00",
          "2022-08-26T00:00:00+00:00",
          "2022-08-27T00:00:00+00:00",
          "2022-08-29T00:00:00+00:00",
          "2022-08-30T00:00:00+00:00",
          "2022-08-31T00:00:00+00:00",
          "2022-09-01T00:00:00+00:00",
          "2022-09-02T00:00:00+00:00",
          "2022-09-06T00:00:00+00:00",
          "2022-09-07T00:00:00+00:00",
          "2022-09-08T00:00:00+00:00",
          "2022-09-09T00:00:00+00:00",
          "2022-09-10T00:00:00+00:00",
          "2022-09-13T00:00:00+00:00",
          "2022-09-14T00:00:00+00:00",
          "2022-09-15T00:00:00+00:00",
          "2022-09-16T00:00:00+00:00",
          "2022-09-19T00:00:00+00:00",
          "2022-09-20T00:00:00+00:00",
          "2022-09-28T00:00:00+00:00",
          "2022-09-29T00:00:00+00:00",
          "2022-09-30T00:00:00+00:00",
          "2022-10-03T00:00:00+00:00",
          "2022-10-04T00:00:00+00:00",
          "2022-10-05T00:00:00+00:00",
          "2022-10-06T00:00:00+00:00",
          "2022-10-07T00:00:00+00:00",
          "2022-10-12T00:00:00+00:00",
          "2022-10-13T00:00:00+00:00",
          "2022-10-14T00:00:00+00:00",
          "2022-10-17T00:00:00+00:00",
          "2022-10-18T00:00:00+00:00",
          "2022-10-19T00:00:00+00:00",
          "2022-10-20T00:00:00+00:00",
          "2022-10-21T00:00:00+00:00",
          "2022-10-24T00:00:00+00:00",
          "2022-10-25T00:00:00+00:00",
          "2022-10-26T00:00:00+00:00",
          "2022-10-27T00:00:00+00:00",
          "2022-10-28T00:00:00+00:00",
          "2022-10-31T00:00:00+00:00",
          "2022-11-01T00:00:00+00:00",
          "2022-11-02T00:00:00+00:00",
          "2022-11-03T00:00:00+00:00",
          "2022-11-04T00:00:00+00:00",
          "2022-11-07T00:00:00+00:00",
          "2022-11-08T00:00:00+00:00",
          "2022-11-09T00:00:00+00:00",
          "2022-11-10T00:00:00+00:00",
          "2022-11-14T00:00:00+00:00",
          "2022-11-15T00:00:00+00:00",
          "2022-11-16T00:00:00+00:00"
         ],
         "xaxis": "x",
         "y": [
          100,
          100,
          100,
          100,
          100,
          100,
          100,
          100,
          100,
          100,
          100,
          100,
          100,
          100,
          100,
          100,
          100,
          100,
          100,
          100,
          100,
          100,
          100,
          100,
          100,
          100,
          100,
          100,
          100,
          100,
          100,
          100,
          100,
          100,
          100,
          100,
          100,
          100,
          100,
          100,
          100,
          100,
          100,
          100,
          100,
          100,
          100,
          100,
          100,
          100,
          100,
          100,
          100,
          100,
          100,
          100,
          100
         ],
         "yaxis": "y"
        },
        {
         "hovertemplate": "Browser=Mobile Android Portrait<br>workflow created within last 1 days of=%{x}<br>Success ratio (percent)=%{y}<extra></extra>",
         "legendgroup": "Mobile Android Portrait",
         "line": {
          "color": "#00cc96",
          "dash": "solid"
         },
         "marker": {
          "symbol": "circle"
         },
         "mode": "markers+lines",
         "name": "Mobile Android Portrait",
         "orientation": "v",
         "showlegend": true,
         "type": "scatter",
         "x": [
          "2022-08-18T00:00:00+00:00",
          "2022-08-19T00:00:00+00:00",
          "2022-08-22T00:00:00+00:00",
          "2022-08-23T00:00:00+00:00",
          "2022-08-24T00:00:00+00:00",
          "2022-08-25T00:00:00+00:00",
          "2022-08-26T00:00:00+00:00",
          "2022-08-27T00:00:00+00:00",
          "2022-08-29T00:00:00+00:00",
          "2022-08-30T00:00:00+00:00",
          "2022-08-31T00:00:00+00:00",
          "2022-09-01T00:00:00+00:00",
          "2022-09-02T00:00:00+00:00",
          "2022-09-06T00:00:00+00:00",
          "2022-09-07T00:00:00+00:00",
          "2022-09-08T00:00:00+00:00",
          "2022-09-09T00:00:00+00:00",
          "2022-09-10T00:00:00+00:00",
          "2022-09-13T00:00:00+00:00",
          "2022-09-14T00:00:00+00:00",
          "2022-09-15T00:00:00+00:00",
          "2022-09-16T00:00:00+00:00",
          "2022-09-19T00:00:00+00:00",
          "2022-09-20T00:00:00+00:00",
          "2022-09-28T00:00:00+00:00",
          "2022-09-29T00:00:00+00:00",
          "2022-09-30T00:00:00+00:00",
          "2022-10-03T00:00:00+00:00",
          "2022-10-04T00:00:00+00:00",
          "2022-10-05T00:00:00+00:00",
          "2022-10-06T00:00:00+00:00",
          "2022-10-07T00:00:00+00:00",
          "2022-10-12T00:00:00+00:00",
          "2022-10-13T00:00:00+00:00",
          "2022-10-14T00:00:00+00:00",
          "2022-10-17T00:00:00+00:00",
          "2022-10-18T00:00:00+00:00",
          "2022-10-19T00:00:00+00:00",
          "2022-10-20T00:00:00+00:00",
          "2022-10-21T00:00:00+00:00",
          "2022-10-24T00:00:00+00:00",
          "2022-10-25T00:00:00+00:00",
          "2022-10-26T00:00:00+00:00",
          "2022-10-27T00:00:00+00:00",
          "2022-10-28T00:00:00+00:00",
          "2022-10-31T00:00:00+00:00",
          "2022-11-01T00:00:00+00:00",
          "2022-11-02T00:00:00+00:00",
          "2022-11-03T00:00:00+00:00",
          "2022-11-04T00:00:00+00:00",
          "2022-11-07T00:00:00+00:00",
          "2022-11-08T00:00:00+00:00",
          "2022-11-09T00:00:00+00:00",
          "2022-11-10T00:00:00+00:00",
          "2022-11-14T00:00:00+00:00",
          "2022-11-15T00:00:00+00:00",
          "2022-11-16T00:00:00+00:00"
         ],
         "xaxis": "x",
         "y": [
          100,
          100,
          100,
          100,
          100,
          100,
          100,
          100,
          100,
          100,
          100,
          100,
          100,
          100,
          100,
          100,
          100,
          100,
          100,
          100,
          100,
          100,
          100,
          100,
          100,
          100,
          100,
          100,
          100,
          100,
          100,
          100,
          100,
          100,
          100,
          100,
          100,
          100,
          100,
          100,
          100,
          100,
          100,
          100,
          100,
          100,
          100,
          100,
          100,
          100,
          100,
          100,
          100,
          100,
          100,
          100,
          100
         ],
         "yaxis": "y"
        }
       ],
       "layout": {
        "legend": {
         "title": {
          "text": "Browser"
         },
         "tracegroupgap": 0
        },
        "template": {
         "data": {
          "bar": [
           {
            "error_x": {
             "color": "#2a3f5f"
            },
            "error_y": {
             "color": "#2a3f5f"
            },
            "marker": {
             "line": {
              "color": "#E5ECF6",
              "width": 0.5
             },
             "pattern": {
              "fillmode": "overlay",
              "size": 10,
              "solidity": 0.2
             }
            },
            "type": "bar"
           }
          ],
          "barpolar": [
           {
            "marker": {
             "line": {
              "color": "#E5ECF6",
              "width": 0.5
             },
             "pattern": {
              "fillmode": "overlay",
              "size": 10,
              "solidity": 0.2
             }
            },
            "type": "barpolar"
           }
          ],
          "carpet": [
           {
            "aaxis": {
             "endlinecolor": "#2a3f5f",
             "gridcolor": "white",
             "linecolor": "white",
             "minorgridcolor": "white",
             "startlinecolor": "#2a3f5f"
            },
            "baxis": {
             "endlinecolor": "#2a3f5f",
             "gridcolor": "white",
             "linecolor": "white",
             "minorgridcolor": "white",
             "startlinecolor": "#2a3f5f"
            },
            "type": "carpet"
           }
          ],
          "choropleth": [
           {
            "colorbar": {
             "outlinewidth": 0,
             "ticks": ""
            },
            "type": "choropleth"
           }
          ],
          "contour": [
           {
            "colorbar": {
             "outlinewidth": 0,
             "ticks": ""
            },
            "colorscale": [
             [
              0,
              "#0d0887"
             ],
             [
              0.1111111111111111,
              "#46039f"
             ],
             [
              0.2222222222222222,
              "#7201a8"
             ],
             [
              0.3333333333333333,
              "#9c179e"
             ],
             [
              0.4444444444444444,
              "#bd3786"
             ],
             [
              0.5555555555555556,
              "#d8576b"
             ],
             [
              0.6666666666666666,
              "#ed7953"
             ],
             [
              0.7777777777777778,
              "#fb9f3a"
             ],
             [
              0.8888888888888888,
              "#fdca26"
             ],
             [
              1,
              "#f0f921"
             ]
            ],
            "type": "contour"
           }
          ],
          "contourcarpet": [
           {
            "colorbar": {
             "outlinewidth": 0,
             "ticks": ""
            },
            "type": "contourcarpet"
           }
          ],
          "heatmap": [
           {
            "colorbar": {
             "outlinewidth": 0,
             "ticks": ""
            },
            "colorscale": [
             [
              0,
              "#0d0887"
             ],
             [
              0.1111111111111111,
              "#46039f"
             ],
             [
              0.2222222222222222,
              "#7201a8"
             ],
             [
              0.3333333333333333,
              "#9c179e"
             ],
             [
              0.4444444444444444,
              "#bd3786"
             ],
             [
              0.5555555555555556,
              "#d8576b"
             ],
             [
              0.6666666666666666,
              "#ed7953"
             ],
             [
              0.7777777777777778,
              "#fb9f3a"
             ],
             [
              0.8888888888888888,
              "#fdca26"
             ],
             [
              1,
              "#f0f921"
             ]
            ],
            "type": "heatmap"
           }
          ],
          "heatmapgl": [
           {
            "colorbar": {
             "outlinewidth": 0,
             "ticks": ""
            },
            "colorscale": [
             [
              0,
              "#0d0887"
             ],
             [
              0.1111111111111111,
              "#46039f"
             ],
             [
              0.2222222222222222,
              "#7201a8"
             ],
             [
              0.3333333333333333,
              "#9c179e"
             ],
             [
              0.4444444444444444,
              "#bd3786"
             ],
             [
              0.5555555555555556,
              "#d8576b"
             ],
             [
              0.6666666666666666,
              "#ed7953"
             ],
             [
              0.7777777777777778,
              "#fb9f3a"
             ],
             [
              0.8888888888888888,
              "#fdca26"
             ],
             [
              1,
              "#f0f921"
             ]
            ],
            "type": "heatmapgl"
           }
          ],
          "histogram": [
           {
            "marker": {
             "pattern": {
              "fillmode": "overlay",
              "size": 10,
              "solidity": 0.2
             }
            },
            "type": "histogram"
           }
          ],
          "histogram2d": [
           {
            "colorbar": {
             "outlinewidth": 0,
             "ticks": ""
            },
            "colorscale": [
             [
              0,
              "#0d0887"
             ],
             [
              0.1111111111111111,
              "#46039f"
             ],
             [
              0.2222222222222222,
              "#7201a8"
             ],
             [
              0.3333333333333333,
              "#9c179e"
             ],
             [
              0.4444444444444444,
              "#bd3786"
             ],
             [
              0.5555555555555556,
              "#d8576b"
             ],
             [
              0.6666666666666666,
              "#ed7953"
             ],
             [
              0.7777777777777778,
              "#fb9f3a"
             ],
             [
              0.8888888888888888,
              "#fdca26"
             ],
             [
              1,
              "#f0f921"
             ]
            ],
            "type": "histogram2d"
           }
          ],
          "histogram2dcontour": [
           {
            "colorbar": {
             "outlinewidth": 0,
             "ticks": ""
            },
            "colorscale": [
             [
              0,
              "#0d0887"
             ],
             [
              0.1111111111111111,
              "#46039f"
             ],
             [
              0.2222222222222222,
              "#7201a8"
             ],
             [
              0.3333333333333333,
              "#9c179e"
             ],
             [
              0.4444444444444444,
              "#bd3786"
             ],
             [
              0.5555555555555556,
              "#d8576b"
             ],
             [
              0.6666666666666666,
              "#ed7953"
             ],
             [
              0.7777777777777778,
              "#fb9f3a"
             ],
             [
              0.8888888888888888,
              "#fdca26"
             ],
             [
              1,
              "#f0f921"
             ]
            ],
            "type": "histogram2dcontour"
           }
          ],
          "mesh3d": [
           {
            "colorbar": {
             "outlinewidth": 0,
             "ticks": ""
            },
            "type": "mesh3d"
           }
          ],
          "parcoords": [
           {
            "line": {
             "colorbar": {
              "outlinewidth": 0,
              "ticks": ""
             }
            },
            "type": "parcoords"
           }
          ],
          "pie": [
           {
            "automargin": true,
            "type": "pie"
           }
          ],
          "scatter": [
           {
            "fillpattern": {
             "fillmode": "overlay",
             "size": 10,
             "solidity": 0.2
            },
            "type": "scatter"
           }
          ],
          "scatter3d": [
           {
            "line": {
             "colorbar": {
              "outlinewidth": 0,
              "ticks": ""
             }
            },
            "marker": {
             "colorbar": {
              "outlinewidth": 0,
              "ticks": ""
             }
            },
            "type": "scatter3d"
           }
          ],
          "scattercarpet": [
           {
            "marker": {
             "colorbar": {
              "outlinewidth": 0,
              "ticks": ""
             }
            },
            "type": "scattercarpet"
           }
          ],
          "scattergeo": [
           {
            "marker": {
             "colorbar": {
              "outlinewidth": 0,
              "ticks": ""
             }
            },
            "type": "scattergeo"
           }
          ],
          "scattergl": [
           {
            "marker": {
             "colorbar": {
              "outlinewidth": 0,
              "ticks": ""
             }
            },
            "type": "scattergl"
           }
          ],
          "scattermapbox": [
           {
            "marker": {
             "colorbar": {
              "outlinewidth": 0,
              "ticks": ""
             }
            },
            "type": "scattermapbox"
           }
          ],
          "scatterpolar": [
           {
            "marker": {
             "colorbar": {
              "outlinewidth": 0,
              "ticks": ""
             }
            },
            "type": "scatterpolar"
           }
          ],
          "scatterpolargl": [
           {
            "marker": {
             "colorbar": {
              "outlinewidth": 0,
              "ticks": ""
             }
            },
            "type": "scatterpolargl"
           }
          ],
          "scatterternary": [
           {
            "marker": {
             "colorbar": {
              "outlinewidth": 0,
              "ticks": ""
             }
            },
            "type": "scatterternary"
           }
          ],
          "surface": [
           {
            "colorbar": {
             "outlinewidth": 0,
             "ticks": ""
            },
            "colorscale": [
             [
              0,
              "#0d0887"
             ],
             [
              0.1111111111111111,
              "#46039f"
             ],
             [
              0.2222222222222222,
              "#7201a8"
             ],
             [
              0.3333333333333333,
              "#9c179e"
             ],
             [
              0.4444444444444444,
              "#bd3786"
             ],
             [
              0.5555555555555556,
              "#d8576b"
             ],
             [
              0.6666666666666666,
              "#ed7953"
             ],
             [
              0.7777777777777778,
              "#fb9f3a"
             ],
             [
              0.8888888888888888,
              "#fdca26"
             ],
             [
              1,
              "#f0f921"
             ]
            ],
            "type": "surface"
           }
          ],
          "table": [
           {
            "cells": {
             "fill": {
              "color": "#EBF0F8"
             },
             "line": {
              "color": "white"
             }
            },
            "header": {
             "fill": {
              "color": "#C8D4E3"
             },
             "line": {
              "color": "white"
             }
            },
            "type": "table"
           }
          ]
         },
         "layout": {
          "annotationdefaults": {
           "arrowcolor": "#2a3f5f",
           "arrowhead": 0,
           "arrowwidth": 1
          },
          "autotypenumbers": "strict",
          "coloraxis": {
           "colorbar": {
            "outlinewidth": 0,
            "ticks": ""
           }
          },
          "colorscale": {
           "diverging": [
            [
             0,
             "#8e0152"
            ],
            [
             0.1,
             "#c51b7d"
            ],
            [
             0.2,
             "#de77ae"
            ],
            [
             0.3,
             "#f1b6da"
            ],
            [
             0.4,
             "#fde0ef"
            ],
            [
             0.5,
             "#f7f7f7"
            ],
            [
             0.6,
             "#e6f5d0"
            ],
            [
             0.7,
             "#b8e186"
            ],
            [
             0.8,
             "#7fbc41"
            ],
            [
             0.9,
             "#4d9221"
            ],
            [
             1,
             "#276419"
            ]
           ],
           "sequential": [
            [
             0,
             "#0d0887"
            ],
            [
             0.1111111111111111,
             "#46039f"
            ],
            [
             0.2222222222222222,
             "#7201a8"
            ],
            [
             0.3333333333333333,
             "#9c179e"
            ],
            [
             0.4444444444444444,
             "#bd3786"
            ],
            [
             0.5555555555555556,
             "#d8576b"
            ],
            [
             0.6666666666666666,
             "#ed7953"
            ],
            [
             0.7777777777777778,
             "#fb9f3a"
            ],
            [
             0.8888888888888888,
             "#fdca26"
            ],
            [
             1,
             "#f0f921"
            ]
           ],
           "sequentialminus": [
            [
             0,
             "#0d0887"
            ],
            [
             0.1111111111111111,
             "#46039f"
            ],
            [
             0.2222222222222222,
             "#7201a8"
            ],
            [
             0.3333333333333333,
             "#9c179e"
            ],
            [
             0.4444444444444444,
             "#bd3786"
            ],
            [
             0.5555555555555556,
             "#d8576b"
            ],
            [
             0.6666666666666666,
             "#ed7953"
            ],
            [
             0.7777777777777778,
             "#fb9f3a"
            ],
            [
             0.8888888888888888,
             "#fdca26"
            ],
            [
             1,
             "#f0f921"
            ]
           ]
          },
          "colorway": [
           "#636efa",
           "#EF553B",
           "#00cc96",
           "#ab63fa",
           "#FFA15A",
           "#19d3f3",
           "#FF6692",
           "#B6E880",
           "#FF97FF",
           "#FECB52"
          ],
          "font": {
           "color": "#2a3f5f"
          },
          "geo": {
           "bgcolor": "white",
           "lakecolor": "white",
           "landcolor": "#E5ECF6",
           "showlakes": true,
           "showland": true,
           "subunitcolor": "white"
          },
          "hoverlabel": {
           "align": "left"
          },
          "hovermode": "closest",
          "mapbox": {
           "style": "light"
          },
          "paper_bgcolor": "white",
          "plot_bgcolor": "#E5ECF6",
          "polar": {
           "angularaxis": {
            "gridcolor": "white",
            "linecolor": "white",
            "ticks": ""
           },
           "bgcolor": "#E5ECF6",
           "radialaxis": {
            "gridcolor": "white",
            "linecolor": "white",
            "ticks": ""
           }
          },
          "scene": {
           "xaxis": {
            "backgroundcolor": "#E5ECF6",
            "gridcolor": "white",
            "gridwidth": 2,
            "linecolor": "white",
            "showbackground": true,
            "ticks": "",
            "zerolinecolor": "white"
           },
           "yaxis": {
            "backgroundcolor": "#E5ECF6",
            "gridcolor": "white",
            "gridwidth": 2,
            "linecolor": "white",
            "showbackground": true,
            "ticks": "",
            "zerolinecolor": "white"
           },
           "zaxis": {
            "backgroundcolor": "#E5ECF6",
            "gridcolor": "white",
            "gridwidth": 2,
            "linecolor": "white",
            "showbackground": true,
            "ticks": "",
            "zerolinecolor": "white"
           }
          },
          "shapedefaults": {
           "line": {
            "color": "#2a3f5f"
           }
          },
          "ternary": {
           "aaxis": {
            "gridcolor": "white",
            "linecolor": "white",
            "ticks": ""
           },
           "baxis": {
            "gridcolor": "white",
            "linecolor": "white",
            "ticks": ""
           },
           "bgcolor": "#E5ECF6",
           "caxis": {
            "gridcolor": "white",
            "linecolor": "white",
            "ticks": ""
           }
          },
          "title": {
           "x": 0.05
          },
          "xaxis": {
           "automargin": true,
           "gridcolor": "white",
           "linecolor": "white",
           "ticks": "",
           "title": {
            "standoff": 15
           },
           "zerolinecolor": "white",
           "zerolinewidth": 2
          },
          "yaxis": {
           "automargin": true,
           "gridcolor": "white",
           "linecolor": "white",
           "ticks": "",
           "title": {
            "standoff": 15
           },
           "zerolinecolor": "white",
           "zerolinewidth": 2
          }
         }
        },
        "title": {
         "text": "Success rate of test (postsubmit)"
        },
        "xaxis": {
         "anchor": "y",
         "domain": [
          0,
          1
         ],
         "title": {
          "text": "workflow created within last 1 days of"
         }
        },
        "yaxis": {
         "anchor": "x",
         "domain": [
          0,
          1
         ],
         "title": {
          "text": "Success ratio (percent)"
         }
        }
       }
      }
     },
     "metadata": {},
     "output_type": "display_data"
    },
    {
     "data": {
      "application/vnd.plotly.v1+json": {
       "config": {
        "plotlyServerURL": "https://plot.ly"
       },
       "data": [
        {
         "hovertemplate": "Browser=Desktop Chrome<br>workflow created within last 1 days of=%{x}<br>Success ratio (percent)=%{y}<extra></extra>",
         "legendgroup": "Desktop Chrome",
         "line": {
          "color": "#636efa",
          "dash": "solid"
         },
         "marker": {
          "symbol": "circle"
         },
         "mode": "markers+lines",
         "name": "Desktop Chrome",
         "orientation": "v",
         "showlegend": true,
         "type": "scatter",
         "x": [
          "2022-08-16T00:00:00+00:00",
          "2022-08-17T00:00:00+00:00",
          "2022-08-18T00:00:00+00:00",
          "2022-08-19T00:00:00+00:00",
          "2022-08-22T00:00:00+00:00",
          "2022-08-23T00:00:00+00:00",
          "2022-08-24T00:00:00+00:00",
          "2022-08-25T00:00:00+00:00",
          "2022-08-26T00:00:00+00:00",
          "2022-08-27T00:00:00+00:00",
          "2022-08-29T00:00:00+00:00",
          "2022-08-30T00:00:00+00:00",
          "2022-08-31T00:00:00+00:00",
          "2022-09-01T00:00:00+00:00",
          "2022-09-02T00:00:00+00:00",
          "2022-09-06T00:00:00+00:00",
          "2022-09-07T00:00:00+00:00",
          "2022-09-08T00:00:00+00:00",
          "2022-09-09T00:00:00+00:00",
          "2022-09-10T00:00:00+00:00",
          "2022-09-12T00:00:00+00:00",
          "2022-09-13T00:00:00+00:00",
          "2022-09-14T00:00:00+00:00",
          "2022-09-15T00:00:00+00:00",
          "2022-09-16T00:00:00+00:00",
          "2022-09-17T00:00:00+00:00",
          "2022-09-19T00:00:00+00:00",
          "2022-09-20T00:00:00+00:00",
          "2022-09-27T00:00:00+00:00",
          "2022-09-28T00:00:00+00:00",
          "2022-09-29T00:00:00+00:00",
          "2022-09-30T00:00:00+00:00",
          "2022-10-03T00:00:00+00:00",
          "2022-10-04T00:00:00+00:00",
          "2022-10-05T00:00:00+00:00",
          "2022-10-06T00:00:00+00:00",
          "2022-10-07T00:00:00+00:00",
          "2022-10-08T00:00:00+00:00",
          "2022-10-11T00:00:00+00:00",
          "2022-10-12T00:00:00+00:00",
          "2022-10-13T00:00:00+00:00",
          "2022-10-14T00:00:00+00:00",
          "2022-10-17T00:00:00+00:00",
          "2022-10-18T00:00:00+00:00",
          "2022-10-19T00:00:00+00:00",
          "2022-10-20T00:00:00+00:00",
          "2022-10-21T00:00:00+00:00",
          "2022-10-24T00:00:00+00:00",
          "2022-10-25T00:00:00+00:00",
          "2022-10-26T00:00:00+00:00",
          "2022-10-27T00:00:00+00:00",
          "2022-10-28T00:00:00+00:00",
          "2022-10-29T00:00:00+00:00",
          "2022-10-31T00:00:00+00:00",
          "2022-11-01T00:00:00+00:00",
          "2022-11-02T00:00:00+00:00",
          "2022-11-03T00:00:00+00:00",
          "2022-11-04T00:00:00+00:00",
          "2022-11-05T00:00:00+00:00",
          "2022-11-06T00:00:00+00:00",
          "2022-11-07T00:00:00+00:00",
          "2022-11-08T00:00:00+00:00",
          "2022-11-09T00:00:00+00:00",
          "2022-11-10T00:00:00+00:00",
          "2022-11-11T00:00:00+00:00",
          "2022-11-14T00:00:00+00:00",
          "2022-11-15T00:00:00+00:00",
          "2022-11-16T00:00:00+00:00",
          "2022-11-17T00:00:00+00:00",
          "2022-11-18T00:00:00+00:00"
         ],
         "xaxis": "x",
         "y": [
          50,
          70,
          100,
          100,
          100,
          100,
          100,
          100,
          90.72164948453609,
          100,
          100,
          84.7457627118644,
          82.08955223880598,
          82.6923076923077,
          100,
          57.99999999999999,
          83.92857142857143,
          95.94594594594594,
          86.76470588235294,
          100,
          100,
          85,
          97.19626168224299,
          95.38461538461539,
          100,
          100,
          100,
          100,
          100,
          100,
          95.08196721311475,
          100,
          100,
          100,
          100,
          100,
          100,
          100,
          100,
          100,
          100,
          100,
          100,
          100,
          100,
          100,
          100,
          100,
          100,
          100,
          100,
          100,
          100,
          100,
          100,
          85.71428571428571,
          78.04878048780488,
          93.05555555555556,
          62.5,
          100,
          94.82758620689656,
          66.66666666666666,
          94.44444444444444,
          90,
          100,
          100,
          93.54838709677419,
          100,
          100,
          100
         ],
         "yaxis": "y"
        },
        {
         "hovertemplate": "Browser=Mobile Android Landscape<br>workflow created within last 1 days of=%{x}<br>Success ratio (percent)=%{y}<extra></extra>",
         "legendgroup": "Mobile Android Landscape",
         "line": {
          "color": "#EF553B",
          "dash": "solid"
         },
         "marker": {
          "symbol": "circle"
         },
         "mode": "markers+lines",
         "name": "Mobile Android Landscape",
         "orientation": "v",
         "showlegend": true,
         "type": "scatter",
         "x": [
          "2022-08-16T00:00:00+00:00",
          "2022-08-17T00:00:00+00:00",
          "2022-08-18T00:00:00+00:00",
          "2022-08-19T00:00:00+00:00",
          "2022-08-22T00:00:00+00:00",
          "2022-08-23T00:00:00+00:00",
          "2022-08-24T00:00:00+00:00",
          "2022-08-25T00:00:00+00:00",
          "2022-08-26T00:00:00+00:00",
          "2022-08-27T00:00:00+00:00",
          "2022-08-29T00:00:00+00:00",
          "2022-08-30T00:00:00+00:00",
          "2022-08-31T00:00:00+00:00",
          "2022-09-01T00:00:00+00:00",
          "2022-09-02T00:00:00+00:00",
          "2022-09-06T00:00:00+00:00",
          "2022-09-07T00:00:00+00:00",
          "2022-09-08T00:00:00+00:00",
          "2022-09-09T00:00:00+00:00",
          "2022-09-10T00:00:00+00:00",
          "2022-09-12T00:00:00+00:00",
          "2022-09-13T00:00:00+00:00",
          "2022-09-14T00:00:00+00:00",
          "2022-09-15T00:00:00+00:00",
          "2022-09-16T00:00:00+00:00",
          "2022-09-17T00:00:00+00:00",
          "2022-09-19T00:00:00+00:00",
          "2022-09-20T00:00:00+00:00",
          "2022-09-27T00:00:00+00:00",
          "2022-09-28T00:00:00+00:00",
          "2022-09-29T00:00:00+00:00",
          "2022-09-30T00:00:00+00:00",
          "2022-10-03T00:00:00+00:00",
          "2022-10-04T00:00:00+00:00",
          "2022-10-05T00:00:00+00:00",
          "2022-10-06T00:00:00+00:00",
          "2022-10-07T00:00:00+00:00",
          "2022-10-08T00:00:00+00:00",
          "2022-10-11T00:00:00+00:00",
          "2022-10-12T00:00:00+00:00",
          "2022-10-13T00:00:00+00:00",
          "2022-10-14T00:00:00+00:00",
          "2022-10-17T00:00:00+00:00",
          "2022-10-18T00:00:00+00:00",
          "2022-10-19T00:00:00+00:00",
          "2022-10-20T00:00:00+00:00",
          "2022-10-21T00:00:00+00:00",
          "2022-10-24T00:00:00+00:00",
          "2022-10-25T00:00:00+00:00",
          "2022-10-26T00:00:00+00:00",
          "2022-10-27T00:00:00+00:00",
          "2022-10-28T00:00:00+00:00",
          "2022-10-29T00:00:00+00:00",
          "2022-10-31T00:00:00+00:00",
          "2022-11-01T00:00:00+00:00",
          "2022-11-02T00:00:00+00:00",
          "2022-11-03T00:00:00+00:00",
          "2022-11-04T00:00:00+00:00",
          "2022-11-05T00:00:00+00:00",
          "2022-11-06T00:00:00+00:00",
          "2022-11-07T00:00:00+00:00",
          "2022-11-08T00:00:00+00:00",
          "2022-11-09T00:00:00+00:00",
          "2022-11-10T00:00:00+00:00",
          "2022-11-11T00:00:00+00:00",
          "2022-11-14T00:00:00+00:00",
          "2022-11-15T00:00:00+00:00",
          "2022-11-16T00:00:00+00:00",
          "2022-11-17T00:00:00+00:00",
          "2022-11-18T00:00:00+00:00"
         ],
         "xaxis": "x",
         "y": [
          50,
          100,
          100,
          100,
          100,
          94.5945945945946,
          100,
          100,
          90.72164948453609,
          100,
          100,
          84.7457627118644,
          82.08955223880598,
          82.6923076923077,
          100,
          67.3913043478261,
          83.92857142857143,
          95.94594594594594,
          86.56716417910447,
          100,
          100,
          85,
          97.19626168224299,
          95.23809523809523,
          100,
          100,
          100,
          100,
          100,
          100,
          100,
          100,
          100,
          100,
          100,
          100,
          100,
          100,
          100,
          100,
          100,
          100,
          100,
          100,
          100,
          100,
          100,
          100,
          100,
          100,
          100,
          100,
          100,
          100,
          100,
          85.71428571428571,
          78.04878048780488,
          95.65217391304348,
          62.5,
          100,
          94.82758620689656,
          66.66666666666666,
          94.44444444444444,
          90,
          100,
          100,
          93.54838709677419,
          100,
          100,
          100
         ],
         "yaxis": "y"
        },
        {
         "hovertemplate": "Browser=Mobile Android Portrait<br>workflow created within last 1 days of=%{x}<br>Success ratio (percent)=%{y}<extra></extra>",
         "legendgroup": "Mobile Android Portrait",
         "line": {
          "color": "#00cc96",
          "dash": "solid"
         },
         "marker": {
          "symbol": "circle"
         },
         "mode": "markers+lines",
         "name": "Mobile Android Portrait",
         "orientation": "v",
         "showlegend": true,
         "type": "scatter",
         "x": [
          "2022-08-16T00:00:00+00:00",
          "2022-08-17T00:00:00+00:00",
          "2022-08-18T00:00:00+00:00",
          "2022-08-19T00:00:00+00:00",
          "2022-08-22T00:00:00+00:00",
          "2022-08-23T00:00:00+00:00",
          "2022-08-24T00:00:00+00:00",
          "2022-08-25T00:00:00+00:00",
          "2022-08-26T00:00:00+00:00",
          "2022-08-27T00:00:00+00:00",
          "2022-08-29T00:00:00+00:00",
          "2022-08-30T00:00:00+00:00",
          "2022-08-31T00:00:00+00:00",
          "2022-09-01T00:00:00+00:00",
          "2022-09-02T00:00:00+00:00",
          "2022-09-06T00:00:00+00:00",
          "2022-09-07T00:00:00+00:00",
          "2022-09-08T00:00:00+00:00",
          "2022-09-09T00:00:00+00:00",
          "2022-09-10T00:00:00+00:00",
          "2022-09-12T00:00:00+00:00",
          "2022-09-13T00:00:00+00:00",
          "2022-09-14T00:00:00+00:00",
          "2022-09-15T00:00:00+00:00",
          "2022-09-16T00:00:00+00:00",
          "2022-09-17T00:00:00+00:00",
          "2022-09-19T00:00:00+00:00",
          "2022-09-20T00:00:00+00:00",
          "2022-09-27T00:00:00+00:00",
          "2022-09-28T00:00:00+00:00",
          "2022-09-29T00:00:00+00:00",
          "2022-09-30T00:00:00+00:00",
          "2022-10-03T00:00:00+00:00",
          "2022-10-04T00:00:00+00:00",
          "2022-10-05T00:00:00+00:00",
          "2022-10-06T00:00:00+00:00",
          "2022-10-07T00:00:00+00:00",
          "2022-10-08T00:00:00+00:00",
          "2022-10-11T00:00:00+00:00",
          "2022-10-12T00:00:00+00:00",
          "2022-10-13T00:00:00+00:00",
          "2022-10-14T00:00:00+00:00",
          "2022-10-17T00:00:00+00:00",
          "2022-10-18T00:00:00+00:00",
          "2022-10-19T00:00:00+00:00",
          "2022-10-20T00:00:00+00:00",
          "2022-10-21T00:00:00+00:00",
          "2022-10-24T00:00:00+00:00",
          "2022-10-25T00:00:00+00:00",
          "2022-10-26T00:00:00+00:00",
          "2022-10-27T00:00:00+00:00",
          "2022-10-28T00:00:00+00:00",
          "2022-10-29T00:00:00+00:00",
          "2022-10-31T00:00:00+00:00",
          "2022-11-01T00:00:00+00:00",
          "2022-11-02T00:00:00+00:00",
          "2022-11-03T00:00:00+00:00",
          "2022-11-04T00:00:00+00:00",
          "2022-11-05T00:00:00+00:00",
          "2022-11-06T00:00:00+00:00",
          "2022-11-07T00:00:00+00:00",
          "2022-11-08T00:00:00+00:00",
          "2022-11-09T00:00:00+00:00",
          "2022-11-10T00:00:00+00:00",
          "2022-11-11T00:00:00+00:00",
          "2022-11-14T00:00:00+00:00",
          "2022-11-15T00:00:00+00:00",
          "2022-11-16T00:00:00+00:00",
          "2022-11-17T00:00:00+00:00",
          "2022-11-18T00:00:00+00:00"
         ],
         "xaxis": "x",
         "y": [
          50,
          100,
          100,
          100,
          100,
          100,
          100,
          100,
          90.72164948453609,
          100,
          100,
          84.7457627118644,
          82.08955223880598,
          82.6923076923077,
          100,
          67.3913043478261,
          83.92857142857143,
          95.94594594594594,
          86.56716417910447,
          100,
          100,
          85,
          97.19626168224299,
          95.23809523809523,
          100,
          100,
          100,
          100,
          100,
          100,
          100,
          92.85714285714286,
          100,
          100,
          100,
          100,
          100,
          100,
          100,
          100,
          100,
          100,
          100,
          100,
          100,
          100,
          100,
          100,
          100,
          100,
          100,
          100,
          100,
          100,
          100,
          85.71428571428571,
          78.04878048780488,
          95.65217391304348,
          62.5,
          100,
          94.82758620689656,
          66.66666666666666,
          94.44444444444444,
          90,
          100,
          100,
          93.54838709677419,
          100,
          100,
          100
         ],
         "yaxis": "y"
        }
       ],
       "layout": {
        "legend": {
         "title": {
          "text": "Browser"
         },
         "tracegroupgap": 0
        },
        "template": {
         "data": {
          "bar": [
           {
            "error_x": {
             "color": "#2a3f5f"
            },
            "error_y": {
             "color": "#2a3f5f"
            },
            "marker": {
             "line": {
              "color": "#E5ECF6",
              "width": 0.5
             },
             "pattern": {
              "fillmode": "overlay",
              "size": 10,
              "solidity": 0.2
             }
            },
            "type": "bar"
           }
          ],
          "barpolar": [
           {
            "marker": {
             "line": {
              "color": "#E5ECF6",
              "width": 0.5
             },
             "pattern": {
              "fillmode": "overlay",
              "size": 10,
              "solidity": 0.2
             }
            },
            "type": "barpolar"
           }
          ],
          "carpet": [
           {
            "aaxis": {
             "endlinecolor": "#2a3f5f",
             "gridcolor": "white",
             "linecolor": "white",
             "minorgridcolor": "white",
             "startlinecolor": "#2a3f5f"
            },
            "baxis": {
             "endlinecolor": "#2a3f5f",
             "gridcolor": "white",
             "linecolor": "white",
             "minorgridcolor": "white",
             "startlinecolor": "#2a3f5f"
            },
            "type": "carpet"
           }
          ],
          "choropleth": [
           {
            "colorbar": {
             "outlinewidth": 0,
             "ticks": ""
            },
            "type": "choropleth"
           }
          ],
          "contour": [
           {
            "colorbar": {
             "outlinewidth": 0,
             "ticks": ""
            },
            "colorscale": [
             [
              0,
              "#0d0887"
             ],
             [
              0.1111111111111111,
              "#46039f"
             ],
             [
              0.2222222222222222,
              "#7201a8"
             ],
             [
              0.3333333333333333,
              "#9c179e"
             ],
             [
              0.4444444444444444,
              "#bd3786"
             ],
             [
              0.5555555555555556,
              "#d8576b"
             ],
             [
              0.6666666666666666,
              "#ed7953"
             ],
             [
              0.7777777777777778,
              "#fb9f3a"
             ],
             [
              0.8888888888888888,
              "#fdca26"
             ],
             [
              1,
              "#f0f921"
             ]
            ],
            "type": "contour"
           }
          ],
          "contourcarpet": [
           {
            "colorbar": {
             "outlinewidth": 0,
             "ticks": ""
            },
            "type": "contourcarpet"
           }
          ],
          "heatmap": [
           {
            "colorbar": {
             "outlinewidth": 0,
             "ticks": ""
            },
            "colorscale": [
             [
              0,
              "#0d0887"
             ],
             [
              0.1111111111111111,
              "#46039f"
             ],
             [
              0.2222222222222222,
              "#7201a8"
             ],
             [
              0.3333333333333333,
              "#9c179e"
             ],
             [
              0.4444444444444444,
              "#bd3786"
             ],
             [
              0.5555555555555556,
              "#d8576b"
             ],
             [
              0.6666666666666666,
              "#ed7953"
             ],
             [
              0.7777777777777778,
              "#fb9f3a"
             ],
             [
              0.8888888888888888,
              "#fdca26"
             ],
             [
              1,
              "#f0f921"
             ]
            ],
            "type": "heatmap"
           }
          ],
          "heatmapgl": [
           {
            "colorbar": {
             "outlinewidth": 0,
             "ticks": ""
            },
            "colorscale": [
             [
              0,
              "#0d0887"
             ],
             [
              0.1111111111111111,
              "#46039f"
             ],
             [
              0.2222222222222222,
              "#7201a8"
             ],
             [
              0.3333333333333333,
              "#9c179e"
             ],
             [
              0.4444444444444444,
              "#bd3786"
             ],
             [
              0.5555555555555556,
              "#d8576b"
             ],
             [
              0.6666666666666666,
              "#ed7953"
             ],
             [
              0.7777777777777778,
              "#fb9f3a"
             ],
             [
              0.8888888888888888,
              "#fdca26"
             ],
             [
              1,
              "#f0f921"
             ]
            ],
            "type": "heatmapgl"
           }
          ],
          "histogram": [
           {
            "marker": {
             "pattern": {
              "fillmode": "overlay",
              "size": 10,
              "solidity": 0.2
             }
            },
            "type": "histogram"
           }
          ],
          "histogram2d": [
           {
            "colorbar": {
             "outlinewidth": 0,
             "ticks": ""
            },
            "colorscale": [
             [
              0,
              "#0d0887"
             ],
             [
              0.1111111111111111,
              "#46039f"
             ],
             [
              0.2222222222222222,
              "#7201a8"
             ],
             [
              0.3333333333333333,
              "#9c179e"
             ],
             [
              0.4444444444444444,
              "#bd3786"
             ],
             [
              0.5555555555555556,
              "#d8576b"
             ],
             [
              0.6666666666666666,
              "#ed7953"
             ],
             [
              0.7777777777777778,
              "#fb9f3a"
             ],
             [
              0.8888888888888888,
              "#fdca26"
             ],
             [
              1,
              "#f0f921"
             ]
            ],
            "type": "histogram2d"
           }
          ],
          "histogram2dcontour": [
           {
            "colorbar": {
             "outlinewidth": 0,
             "ticks": ""
            },
            "colorscale": [
             [
              0,
              "#0d0887"
             ],
             [
              0.1111111111111111,
              "#46039f"
             ],
             [
              0.2222222222222222,
              "#7201a8"
             ],
             [
              0.3333333333333333,
              "#9c179e"
             ],
             [
              0.4444444444444444,
              "#bd3786"
             ],
             [
              0.5555555555555556,
              "#d8576b"
             ],
             [
              0.6666666666666666,
              "#ed7953"
             ],
             [
              0.7777777777777778,
              "#fb9f3a"
             ],
             [
              0.8888888888888888,
              "#fdca26"
             ],
             [
              1,
              "#f0f921"
             ]
            ],
            "type": "histogram2dcontour"
           }
          ],
          "mesh3d": [
           {
            "colorbar": {
             "outlinewidth": 0,
             "ticks": ""
            },
            "type": "mesh3d"
           }
          ],
          "parcoords": [
           {
            "line": {
             "colorbar": {
              "outlinewidth": 0,
              "ticks": ""
             }
            },
            "type": "parcoords"
           }
          ],
          "pie": [
           {
            "automargin": true,
            "type": "pie"
           }
          ],
          "scatter": [
           {
            "fillpattern": {
             "fillmode": "overlay",
             "size": 10,
             "solidity": 0.2
            },
            "type": "scatter"
           }
          ],
          "scatter3d": [
           {
            "line": {
             "colorbar": {
              "outlinewidth": 0,
              "ticks": ""
             }
            },
            "marker": {
             "colorbar": {
              "outlinewidth": 0,
              "ticks": ""
             }
            },
            "type": "scatter3d"
           }
          ],
          "scattercarpet": [
           {
            "marker": {
             "colorbar": {
              "outlinewidth": 0,
              "ticks": ""
             }
            },
            "type": "scattercarpet"
           }
          ],
          "scattergeo": [
           {
            "marker": {
             "colorbar": {
              "outlinewidth": 0,
              "ticks": ""
             }
            },
            "type": "scattergeo"
           }
          ],
          "scattergl": [
           {
            "marker": {
             "colorbar": {
              "outlinewidth": 0,
              "ticks": ""
             }
            },
            "type": "scattergl"
           }
          ],
          "scattermapbox": [
           {
            "marker": {
             "colorbar": {
              "outlinewidth": 0,
              "ticks": ""
             }
            },
            "type": "scattermapbox"
           }
          ],
          "scatterpolar": [
           {
            "marker": {
             "colorbar": {
              "outlinewidth": 0,
              "ticks": ""
             }
            },
            "type": "scatterpolar"
           }
          ],
          "scatterpolargl": [
           {
            "marker": {
             "colorbar": {
              "outlinewidth": 0,
              "ticks": ""
             }
            },
            "type": "scatterpolargl"
           }
          ],
          "scatterternary": [
           {
            "marker": {
             "colorbar": {
              "outlinewidth": 0,
              "ticks": ""
             }
            },
            "type": "scatterternary"
           }
          ],
          "surface": [
           {
            "colorbar": {
             "outlinewidth": 0,
             "ticks": ""
            },
            "colorscale": [
             [
              0,
              "#0d0887"
             ],
             [
              0.1111111111111111,
              "#46039f"
             ],
             [
              0.2222222222222222,
              "#7201a8"
             ],
             [
              0.3333333333333333,
              "#9c179e"
             ],
             [
              0.4444444444444444,
              "#bd3786"
             ],
             [
              0.5555555555555556,
              "#d8576b"
             ],
             [
              0.6666666666666666,
              "#ed7953"
             ],
             [
              0.7777777777777778,
              "#fb9f3a"
             ],
             [
              0.8888888888888888,
              "#fdca26"
             ],
             [
              1,
              "#f0f921"
             ]
            ],
            "type": "surface"
           }
          ],
          "table": [
           {
            "cells": {
             "fill": {
              "color": "#EBF0F8"
             },
             "line": {
              "color": "white"
             }
            },
            "header": {
             "fill": {
              "color": "#C8D4E3"
             },
             "line": {
              "color": "white"
             }
            },
            "type": "table"
           }
          ]
         },
         "layout": {
          "annotationdefaults": {
           "arrowcolor": "#2a3f5f",
           "arrowhead": 0,
           "arrowwidth": 1
          },
          "autotypenumbers": "strict",
          "coloraxis": {
           "colorbar": {
            "outlinewidth": 0,
            "ticks": ""
           }
          },
          "colorscale": {
           "diverging": [
            [
             0,
             "#8e0152"
            ],
            [
             0.1,
             "#c51b7d"
            ],
            [
             0.2,
             "#de77ae"
            ],
            [
             0.3,
             "#f1b6da"
            ],
            [
             0.4,
             "#fde0ef"
            ],
            [
             0.5,
             "#f7f7f7"
            ],
            [
             0.6,
             "#e6f5d0"
            ],
            [
             0.7,
             "#b8e186"
            ],
            [
             0.8,
             "#7fbc41"
            ],
            [
             0.9,
             "#4d9221"
            ],
            [
             1,
             "#276419"
            ]
           ],
           "sequential": [
            [
             0,
             "#0d0887"
            ],
            [
             0.1111111111111111,
             "#46039f"
            ],
            [
             0.2222222222222222,
             "#7201a8"
            ],
            [
             0.3333333333333333,
             "#9c179e"
            ],
            [
             0.4444444444444444,
             "#bd3786"
            ],
            [
             0.5555555555555556,
             "#d8576b"
            ],
            [
             0.6666666666666666,
             "#ed7953"
            ],
            [
             0.7777777777777778,
             "#fb9f3a"
            ],
            [
             0.8888888888888888,
             "#fdca26"
            ],
            [
             1,
             "#f0f921"
            ]
           ],
           "sequentialminus": [
            [
             0,
             "#0d0887"
            ],
            [
             0.1111111111111111,
             "#46039f"
            ],
            [
             0.2222222222222222,
             "#7201a8"
            ],
            [
             0.3333333333333333,
             "#9c179e"
            ],
            [
             0.4444444444444444,
             "#bd3786"
            ],
            [
             0.5555555555555556,
             "#d8576b"
            ],
            [
             0.6666666666666666,
             "#ed7953"
            ],
            [
             0.7777777777777778,
             "#fb9f3a"
            ],
            [
             0.8888888888888888,
             "#fdca26"
            ],
            [
             1,
             "#f0f921"
            ]
           ]
          },
          "colorway": [
           "#636efa",
           "#EF553B",
           "#00cc96",
           "#ab63fa",
           "#FFA15A",
           "#19d3f3",
           "#FF6692",
           "#B6E880",
           "#FF97FF",
           "#FECB52"
          ],
          "font": {
           "color": "#2a3f5f"
          },
          "geo": {
           "bgcolor": "white",
           "lakecolor": "white",
           "landcolor": "#E5ECF6",
           "showlakes": true,
           "showland": true,
           "subunitcolor": "white"
          },
          "hoverlabel": {
           "align": "left"
          },
          "hovermode": "closest",
          "mapbox": {
           "style": "light"
          },
          "paper_bgcolor": "white",
          "plot_bgcolor": "#E5ECF6",
          "polar": {
           "angularaxis": {
            "gridcolor": "white",
            "linecolor": "white",
            "ticks": ""
           },
           "bgcolor": "#E5ECF6",
           "radialaxis": {
            "gridcolor": "white",
            "linecolor": "white",
            "ticks": ""
           }
          },
          "scene": {
           "xaxis": {
            "backgroundcolor": "#E5ECF6",
            "gridcolor": "white",
            "gridwidth": 2,
            "linecolor": "white",
            "showbackground": true,
            "ticks": "",
            "zerolinecolor": "white"
           },
           "yaxis": {
            "backgroundcolor": "#E5ECF6",
            "gridcolor": "white",
            "gridwidth": 2,
            "linecolor": "white",
            "showbackground": true,
            "ticks": "",
            "zerolinecolor": "white"
           },
           "zaxis": {
            "backgroundcolor": "#E5ECF6",
            "gridcolor": "white",
            "gridwidth": 2,
            "linecolor": "white",
            "showbackground": true,
            "ticks": "",
            "zerolinecolor": "white"
           }
          },
          "shapedefaults": {
           "line": {
            "color": "#2a3f5f"
           }
          },
          "ternary": {
           "aaxis": {
            "gridcolor": "white",
            "linecolor": "white",
            "ticks": ""
           },
           "baxis": {
            "gridcolor": "white",
            "linecolor": "white",
            "ticks": ""
           },
           "bgcolor": "#E5ECF6",
           "caxis": {
            "gridcolor": "white",
            "linecolor": "white",
            "ticks": ""
           }
          },
          "title": {
           "x": 0.05
          },
          "xaxis": {
           "automargin": true,
           "gridcolor": "white",
           "linecolor": "white",
           "ticks": "",
           "title": {
            "standoff": 15
           },
           "zerolinecolor": "white",
           "zerolinewidth": 2
          },
          "yaxis": {
           "automargin": true,
           "gridcolor": "white",
           "linecolor": "white",
           "ticks": "",
           "title": {
            "standoff": 15
           },
           "zerolinecolor": "white",
           "zerolinewidth": 2
          }
         }
        },
        "title": {
         "text": "Success rate of test (including presubmit)"
        },
        "xaxis": {
         "anchor": "y",
         "domain": [
          0,
          1
         ],
         "title": {
          "text": "workflow created within last 1 days of"
         }
        },
        "yaxis": {
         "anchor": "x",
         "domain": [
          0,
          1
         ],
         "title": {
          "text": "Success ratio (percent)"
         }
        }
       }
      }
     },
     "metadata": {},
     "output_type": "display_data"
    },
    {
     "name": "stdout",
     "output_type": "stream",
     "text": [
      "call/Call Composite E2E Configuration Screen Tests/composite pages load completely\n",
      "call/Call Composite E2E Configuration Screen Tests/local device settings can toggle camera & audio\n",
      "call/Call Composite E2E Configuration Screen Tests/local device buttons should show tooltips on hover\n",
      "call/Call Composite E2E Configuration Screen Tests/Configuration screen should display call details\n",
      "call/Call Composite E2E CallPage Tests/video gallery renders for all pages\n",
      "call/Call Composite E2E CallPage Tests/participant list loads correctly\n",
      "call/Call Composite E2E CallPage Tests/can turn off local video\n",
      "call/Call Composite E2E CallPage [Mobile Only]/local camera switcher button cycles camera\n",
      "call/Call Composite E2E Call Ended Pages/Left call page should show when end call button clicked\n",
      "call/Call Composite E2E Call Ended Pages/Removed from call page should show when you are removed by another user\n",
      "call/Call composite participant menu items injection tests/injected menu items appear\n",
      "call/Call composite custom button injection tests/injected buttons appear\n",
      "call/CallControls tests/CallControls when number of mics drops to zero\n",
      "call/CallControls tests/CallControls when number of available cameras drops to zero\n",
      "call/Error bar tests/Failure to start video should be shown on error bar\n",
      "call/Error bar tests/Multiple errors should be shown on error bar\n",
      "call/HorizontalGallery tests/HorizontalGallery should have 1 audio participant\n",
      "call/HorizontalGallery tests/HorizontalGallery should have multiple audio participants spanning multiple pages. Navigation buttons should work.\n",
      "call/Loading Video Spinner tests/Video Gallery shows loading spinners in tiles\n",
      "call/Loading Video Spinner tests/Video Gallery shows loading spinners in screen share and horizontal gallery\n",
      "call/Localization tests/Configuration page title and participant button in call should be localized\n",
      "call/Page state tests/Page when waiting in lobby\n",
      "call/Page state tests/Page when access is denied\n",
      "call/Page state tests/Page when join call failed due to network\n",
      "call/Page state tests/Page when local participant left call\n",
      "call/Page state tests/Page when local participant is removed from call\n",
      "call/Screenshare tests/Local screenshare notification should be displayed in grid area of VideoGallery when local participant is screensharing\n",
      "call/Screenshare tests/Remote screen share stream should be displayed in grid area of VideoGallery.\n",
      "call/User Facing Diagnostics tests/A banner is shown when user is speaking while muted\n",
      "call/User Facing Diagnostics tests/Tile should be showing when network reconnect is bad \n",
      "call/User Facing Diagnostics tests/Error bar should be showing when camera freezes \n",
      "call/User Facing Diagnostics tests/Message bar should show when camera stops unexpectedly\n",
      "call/User Facing Diagnostics tests/Message bar should show when camera recovers\n",
      "call/User Facing Diagnostics tests/Message bar should show when microphone stops unexpectedly\n",
      "call/User Facing Diagnostics tests/Message bar should show when microphone recovers\n",
      "callwithchat/CallWithChat Composite Pre-Join Tests/Pre-join screen loads correctly\n",
      "callwithchat/CallWithChat Composite CallWithChat Page Tests/CallWithChat gallery screen loads correctly\n",
      "callwithchat/CallWithChat Composite CallWithChat Page Tests/Chat messages are displayed correctly\n",
      "callwithchat/CallWithChat Composite CallWithChat Page Tests/Unread chat message button badge are displayed correctly for <9 messages\n",
      "callwithchat/CallWithChat Composite CallWithChat Page Tests/Unread chat message button badge are displayed correctly for >9 messages\n",
      "callwithchat/CallWithChat Composite CallWithChat Page Tests/People pane opens and displays correctly\n",
      "callwithchat/CallWithChat Composite CallWithChat Page Tests/More Drawer menu opens and displays correctly on mobile\n",
      "callwithchat/CallWithChat Composite CallWithChat Page Tests/More Drawer Speaker submenu opens and displays correctly on mobile\n",
      "callwithchat/CallWithChat Composite CallWithChat Page Tests/Speaker Submenu click on a new audio device displays correctly on mobile\n",
      "callwithchat/CallWithChat Composite CallWithChat Page Tests/More Drawer menu opens and displays new selected speaker device correctly on mobile\n",
      "callwithchat/CallWithChat Composite CallWithChat Page Tests/More Drawer Microphone submenu opens and displays correctly on mobile\n",
      "callwithchat/CallWithChat Composite CallWithChat Page Tests/Microphone Submenu click on a new audio device displays correctly on mobile\n",
      "callwithchat/CallWithChat Composite CallWithChat Page Tests/More Drawer menu opens and displays new selected microphone device correctly on mobile\n",
      "chat/Chat Composite E2E Tests/composite pages load completely\n",
      "chat/Chat Composite E2E Tests/page[1] can rejoin the chat\n",
      "chat/Chat Composite with custom data model/custom onRenderTypingIndicator and custom onRenderMessage\n",
      "chat/ErrorBar is shown correctly/with wrong thread ID\n",
      "chat/ErrorBar is shown correctly/with expired token\n",
      "chat/ErrorBar is shown correctly/with wrong endpoint\n",
      "chat/Filesharing Attach file icon/is not visible if filesharing options are undefined\n",
      "chat/Filesharing Attach file icon/is visible if filesharing options are defined\n",
      "chat/Filesharing SendBox/shows file cards for uploaded files\n",
      "chat/Filesharing ProgressBar/is visible if progress is between 0 and 1\n",
      "chat/Filesharing ProgressBar/is not visible if progress is 0 or less than 0\n",
      "chat/Filesharing ProgressBar/is not visible if progress is 1 or greater than 1\n",
      "chat/Filesharing SendBox Errorbar/shows file upload error\n",
      "chat/Filesharing SendBox Errorbar/shows file upload in progress error\n",
      "chat/Filesharing Global Errorbar/shows file download error\n",
      "chat/Filesharing Message Thread/contains File Download Card\n",
      "chat/Filesharing Message Thread/contains File Download Card in remote message\n",
      "chat/Filesharing Edit Message/displays file upload cards\n",
      "chat/Localization tests/Participants list header should be localized\n",
      "chat/Tests related to messaging/Local participant should see their message in thread\n",
      "chat/Chat Composite E2E Tests/participant can receive message and send readReceipt to message sender\n",
      "chat/Chat Composite E2E Tests/participant can receive read receipts and readers should show in contextual menu\n",
      "chat/Tests related to typing indicator/page can view typing indicator within 10s\n",
      "call/Localization tests/Participant button in call should be localized\n",
      "call/Participant pane tests/People pane opens and displays correctly\n",
      "call/Participant pane tests/click on add people button will show no options for ACS group call\n",
      "call/Participant pane tests/click on add people button will show dialpad option for PSTN call\n",
      "call/Participant pane tests/click on dial phone number will open dialpad in PTSC call\n",
      "call/HorizontalGallery tests/HorizontalGallery should have 1 PSTN participant in the horizontal gallery\n",
      "call/HorizontalGallery tests/HorizontalGallery should have multiple audio participants and 1 PSTN participant\n",
      "call/HorizontalGallery tests/HorizontalGallery should have multiple audio participants and 1 PSTN participant on second page\n",
      "call/HorizontalGallery tests/HorizontalGallery should have 2 video participants during screenshare and 1 PSTN participant\n",
      "call/HorizontalGallery tests/Horizontal gallery Should have 1 PSTN and 1 1-N participants\n",
      "call/VideoGallery tests/VideoGallery Should have 1 Audio participant and one PSTN participant\n",
      "call/VideoGallery tests/VideoGallery Should have 1 PSTN and 1 1-N participants\n",
      "call/Rooms Call Configuration Screen Tests for different roles/All configurations are enabled for Presenter\n",
      "call/Rooms Call Configuration Screen Tests for different roles/All configurations are enabled for Attendee\n",
      "call/Rooms Call Configuration Screen Tests for different roles/Only configurations for speaker are enabled for Consumer\n",
      "call/Participant pane tests/callee participant is displayed with connection state\n",
      "call/Participant pane tests/callee participant name and connection state are truncated\n",
      "call/HorizontalGallery tests/Horizontal gallery Should have 1 PSTN and 1 On Hold participant\n",
      "call/VideoGallery tests/VideoGallery Should show the remote participant on hold\n",
      "call/Dtmf dialpad tests/Dtmf dialpad should render correctly\n",
      "call/Rooms CallScreen tests for different roles/All CallControls are enabled for Presenter\n",
      "call/Rooms CallScreen tests for different roles/All CallControls are enabled for Attendee\n",
      "call/Rooms CallScreen tests for different roles/Only few CallControls are enabled for Consumer with remote participants\n",
      "call/Rooms DeviceButton tests for different roles/All devices are shown for Presenter\n",
      "call/Rooms DeviceButton tests for different roles/All devices are shown for Attendee\n",
      "call/Rooms DeviceButton tests for different roles/Only speakers are shown for Consumer\n",
      "call/Rooms CallScreen tests for different roles/Screen Share is disabled for Attendee\n",
      "call/Participant pane tests/click on dial phone number will open dialpad in PTSN call\n",
      "callwithchat/CallWithChat Composite CallWithChat Page Tests/More Drawer menu opens and displays dialpad\n",
      "callwithchat/CallWithChat Composite CallWithChat Page Tests/More Drawer menu opens and can choose to be on hold\n",
      "call/Hold screen tests/Hold screen should render correctly\n",
      "call/Hold screen tests/Hold screen should return to call screen upon resume\n",
      "call/Rooms Participant RemoveButton tests for different roles/Remove button is enabled for Presenter\n",
      "call/Rooms Participant RemoveButton tests for different roles/Remove button is disabled for Attendee\n",
      "call/Rooms Participant RemoveButton tests for different roles/Remove button is disabled for Consumer\n",
      "call/Dtmf dialpad tests/Dtmf dialpad should render in 1:1 PSTN call\n",
      "call/Dtmf dialpad tests/Dtmf dialpad should not render in non-PSTN call\n",
      "call/Rooms Participant RemoveButton tests for different roles/No ellipses button for remote participant items for Attendee\n",
      "call/Rooms Participant RemoveButton tests for different roles/No ellipses button for remote participant items for Consumer\n",
      "call/Call composite custom call control options tests/Control bar buttons correctly show as compact with camera disabled and end call button hidden\n",
      "callwithchat/Custom call control options tests/Control bar buttons correctly show as compact with camera disabled and end call button hidden\n",
      "call/Page state tests/Page when local participant tries to join a room that cannot be not found\n",
      "call/Page state tests/Page when local participant tries to join a room that they are not invited to\n",
      "call/Call Composite E2E CallPage Tests/participant list opens and displays ellipses if passing in custom icon for desktop\n",
      "call/Call Composite E2E CallPage Tests/participant list wiht custom ellipses on mobile, should not show ellipses for beta version people pane\n",
      "call/Participant pane tests/Add people button should be hidden for ACS group call when there is no alternate call id and callInvitationUrl\n",
      "call/Call Composite E2E CallPage Tests/participant list with custom ellipses on mobile, should not show ellipses for beta version people pane\n",
      "call/unsupportedBrowser page tests/unsupportedBrowser displays correctly without a help link\n",
      "call/unsupportedBrowser page tests/unsupportedBrowser displays correctly with a help link\n",
      "call/Lobby page tests/Lobby page shows correct strings when joining a group call\n",
      "call/Lobby page tests/lobby page shows correct strings when starting a ACS outbound call\n",
      "call/Lobby page tests/lobby page shows correct strings when starting a PSTN outbound call\n",
      "call/Tests for guidance UI on config page to guide users through enabling device permissions/Configuration page should show enable camera/mic button when camera and mic permissions are not set\n",
      "call/Tests for guidance UI on config page to guide users through enabling device permissions/Clicking on enable camera/mic button should show modal on Desktop\n",
      "call/Tests for guidance UI on config page to guide users through enabling device permissions/Call Readiness error bar should show up when user deny permissions\n",
      "call/Tests for guidance UI on config page to guide users through enabling device permissions/Call Readiness feature should be hidden when not opted in\n",
      "call/Participant list flyout tests/participant list loads correctly\n",
      "call/Participant list flyout tests/participant list opens and displays ellipses if passing in custom icon\n",
      "call/Participant list flyout tests/injected menu items appear\n",
      "call/Participant list side pane tests/participant list loads correctly\n",
      "call/Participant list side pane tests/participant list opens and displays ellipses if passing in custom icon\n",
      "call/Participant list side pane tests/injected menu items appear\n",
      "call/Participant list full screen pane with drawer tests/participant list loads correctly\n",
      "call/Participant list full screen pane with drawer tests/participant list opens and displays ellipses if passing in custom icon\n",
      "call/Participant list full screen pane with drawer tests/injected menu items appear\n",
      "call/Tests for guidance UI on config page to guide users through enabling device permissions/Configuration page should show enable camera/mic modal when both camera and mic permissions are not set\n",
      "call/Tests for guidance UI on config page to guide users through enabling device permissions/Configuration page should show mic and camera disabled modal when both permissions are denied\n",
      "call/Tests for guidance UI on config page to guide users through enabling device permissions/Configuration page should show mic disabled modal when only mic permission is denied\n",
      "call/Tests for guidance UI on config page to guide users through enabling device permissions/Configuration page should show camera disabled modal when only camera permission is denied\n",
      "call/Tests for guidance UI on config page to guide users through enabling device permissions/Configuration page should not show any modal when device permissions are all granted\n"
     ]
    }
   ],
   "source": [
    "%run ./debug_tests_helper.ipynb"
   ]
  }
 ],
 "metadata": {
  "kernelspec": {
   "display_name": "Python 3.10.5 ('e2eanalysis')",
   "language": "python",
   "name": "python3"
  },
  "language_info": {
   "codemirror_mode": {
    "name": "ipython",
    "version": 3
   },
   "file_extension": ".py",
   "mimetype": "text/x-python",
   "name": "python",
   "nbconvert_exporter": "python",
   "pygments_lexer": "ipython3",
   "version": "3.10.5"
  },
  "orig_nbformat": 4,
  "vscode": {
   "interpreter": {
    "hash": "c3b05de2005fd981399e64c7fa718f103e153aa6eb6a36e3fed7a3ca3494229e"
   }
  }
 },
 "nbformat": 4,
 "nbformat_minor": 2
}
