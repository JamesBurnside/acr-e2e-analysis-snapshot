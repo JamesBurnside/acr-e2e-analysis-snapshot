{
 "cells": [
  {
   "cell_type": "markdown",
   "metadata": {},
   "source": [
    "# Cumulative time spent in browser test step for each PR\n",
    "\n",
    "## 🚧 Work in Progress 🚧"
   ]
  },
  {
   "cell_type": "code",
   "execution_count": 47,
   "metadata": {},
   "outputs": [],
   "source": [
    "# All imports live here.\n",
    "\n",
    "import pandas as pd\n",
    "pd.options.plotting.backend = 'plotly'\n",
    "\n",
    "from plotly.subplots import make_subplots\n",
    "import plotly.graph_objects as go\n",
    "\n",
    "# Common utility functions\n",
    "def describe_detail(df):\n",
    "    df.describe()"
   ]
  },
  {
   "cell_type": "code",
   "execution_count": 48,
   "metadata": {},
   "outputs": [
    {
     "name": "stdout",
     "output_type": "stream",
     "text": [
      "Loaded jobs with 171742 rows. Columns:\n",
      "workflow_id                           int64\n",
      "workflow_run_attempt                  int64\n",
      "job_status                           object\n",
      "job_conclusion                       object\n",
      "job_started_at          datetime64[ns, UTC]\n",
      "job_completed_at        datetime64[ns, UTC]\n",
      "job_name                             object\n",
      "step_name                            object\n",
      "step_status                          object\n",
      "step_conclusion                      object\n",
      "step_started_at                      object\n",
      "step_completed_at                    object\n",
      "dtype: object\n"
     ]
    }
   ],
   "source": [
    "# Load and parse raw data.\n",
    "with open('../data/raw/jobs.json') as f:\n",
    "    jobs = pd.read_json(f)\n",
    "\n",
    "print('Loaded jobs with %d rows. Columns:' % (jobs.shape[0],))\n",
    "print(jobs.dtypes)"
   ]
  },
  {
   "cell_type": "code",
   "execution_count": 49,
   "metadata": {},
   "outputs": [
    {
     "name": "stdout",
     "output_type": "stream",
     "text": [
      "Loaded tests with 145119 rows. Columns:\n",
      "meta_id                                  int64\n",
      "workflow_id                              int64\n",
      "workflow_run_number                      int64\n",
      "workflow_run_attempt                     int64\n",
      "workflow_created_at        datetime64[ns, UTC]\n",
      "workflow_event                          object\n",
      "workflow_head_branch                    object\n",
      "commit_sha                              object\n",
      "build_flavor                            object\n",
      "composite                               object\n",
      "pw_suite_title                          object\n",
      "pw_spec_title                           object\n",
      "pw_test_project_name                    object\n",
      "pw_test_expected_status                 object\n",
      "pw_test_status                          object\n",
      "pw_result_status                        object\n",
      "pw_result_duration                       int64\n",
      "pw_result_retry                          int64\n",
      "dtype: object\n"
     ]
    }
   ],
   "source": [
    "# Load and parse raw data.\n",
    "with open('../data/raw/playwright.json') as f:\n",
    "    tests = pd.read_json(f)\n",
    "print('Loaded tests with %d rows. Columns:' % (tests.shape[0],))\n",
    "print(tests.dtypes)\n"
   ]
  },
  {
   "cell_type": "code",
   "execution_count": 50,
   "metadata": {},
   "outputs": [
    {
     "name": "stdout",
     "output_type": "stream",
     "text": [
      "Augmented jobs with inferred columns:\n",
      "workflow_id                           int64\n",
      "workflow_run_attempt                  int64\n",
      "job_status                           object\n",
      "job_conclusion                       object\n",
      "job_started_at          datetime64[ns, UTC]\n",
      "job_completed_at        datetime64[ns, UTC]\n",
      "job_name                             object\n",
      "step_name                            object\n",
      "step_status                          object\n",
      "step_conclusion                      object\n",
      "step_started_at                      object\n",
      "step_completed_at                    object\n",
      "job_started_date        datetime64[ns, UTC]\n",
      "job_duration                timedelta64[ns]\n",
      "workflow_attempt_uid                 object\n",
      "e2e-composite                        object\n",
      "e2e-flavor                           object\n",
      "dtype: object\n"
     ]
    }
   ],
   "source": [
    "# Add simple inferred columns to raw data\n",
    "\n",
    "jobs['job_started_date'] = jobs['job_started_at'].dt.normalize()\n",
    "jobs['job_duration'] = jobs['job_completed_at'] - jobs['job_started_at']\n",
    "\n",
    "jobs['workflow_attempt_uid'] = jobs['workflow_id'].astype(str) + '_' + jobs['workflow_run_attempt'].astype(str)\n",
    "\n",
    "e2e_dimensions = {\n",
    "    'Call Composite automation test (stable)': ('call', 'stable'),\n",
    "    'Call Composite automation test (beta)': ('call', 'beta'),\n",
    "    'Call With Chat Composite automation test (stable)': ('callWithChat', 'stable'),\n",
    "    'Call With Chat Composite automation test (beta)': ('callWithChat', 'beta'),\n",
    "    'Chat Composite automation test (stable)': ('chat', 'stable'),\n",
    "    'Chat Composite automation test (beta)': ('chat', 'beta'),\n",
    "}\n",
    "jobs['e2e-composite'] = jobs['job_name'].map(lambda j: e2e_dimensions.get(j, (None, None))[0])\n",
    "jobs['e2e-flavor'] = jobs['job_name'].map(lambda j: e2e_dimensions.get(j, (None, None))[1])\n",
    "\n",
    "print('Augmented jobs with inferred columns:')\n",
    "print(jobs.dtypes)"
   ]
  },
  {
   "cell_type": "code",
   "execution_count": 51,
   "metadata": {},
   "outputs": [],
   "source": [
    "# Filter down to test jobs\n",
    "\n",
    "e2e_jobs = jobs[jobs['e2e-composite'].notnull()]\n",
    "# Each job has multiple steps. Drop down to one row per job.\n",
    "e2e_jobs_no_steps = e2e_jobs[[\n",
    "    'workflow_id',\n",
    "    'workflow_run_attempt',\n",
    "    'job_status',\n",
    "    'job_conclusion',\n",
    "    'job_started_at',\n",
    "    'job_completed_at',\n",
    "    'job_name',\n",
    "    'job_started_date',\n",
    "    'job_duration',\n",
    "    'workflow_attempt_uid',\n",
    "    'e2e-composite',\n",
    "    'e2e-flavor']].drop_duplicates()"
   ]
  },
  {
   "cell_type": "code",
   "execution_count": 52,
   "metadata": {},
   "outputs": [],
   "source": [
    "# Correlate with head_branch\n",
    "\n",
    "df = tests[['workflow_id', 'workflow_head_branch']]\n",
    "df = pd.merge(e2e_jobs_no_steps, df, how=\"left\", on=\"workflow_id\")\n",
    "e2e_jobs_with_branch = df"
   ]
  },
  {
   "cell_type": "code",
   "execution_count": 64,
   "metadata": {},
   "outputs": [
    {
     "data": {
      "text/html": [
       "<div>\n",
       "<style scoped>\n",
       "    .dataframe tbody tr th:only-of-type {\n",
       "        vertical-align: middle;\n",
       "    }\n",
       "\n",
       "    .dataframe tbody tr th {\n",
       "        vertical-align: top;\n",
       "    }\n",
       "\n",
       "    .dataframe thead th {\n",
       "        text-align: right;\n",
       "    }\n",
       "</style>\n",
       "<table border=\"1\" class=\"dataframe\">\n",
       "  <thead>\n",
       "    <tr style=\"text-align: right;\">\n",
       "      <th></th>\n",
       "      <th>first_job_started_date</th>\n",
       "      <th>job_duration_hours</th>\n",
       "    </tr>\n",
       "    <tr>\n",
       "      <th>workflow_head_branch</th>\n",
       "      <th></th>\n",
       "      <th></th>\n",
       "    </tr>\n",
       "  </thead>\n",
       "  <tbody>\n",
       "    <tr>\n",
       "      <th>alkwa/endcall-PoC</th>\n",
       "      <td>2022-07-19 00:00:00+00:00</td>\n",
       "      <td>243.273333</td>\n",
       "    </tr>\n",
       "    <tr>\n",
       "      <th>alkwa/fix-contextmenu-with-lots-of-participants</th>\n",
       "      <td>2022-06-29 00:00:00+00:00</td>\n",
       "      <td>679.996944</td>\n",
       "    </tr>\n",
       "    <tr>\n",
       "      <th>alkwa/update-js-storybook</th>\n",
       "      <td>2022-07-26 00:00:00+00:00</td>\n",
       "      <td>884.169722</td>\n",
       "    </tr>\n",
       "    <tr>\n",
       "      <th>anjulgarg/2940249-videotile-call-connection-state</th>\n",
       "      <td>2022-08-02 00:00:00+00:00</td>\n",
       "      <td>639.963333</td>\n",
       "    </tr>\n",
       "    <tr>\n",
       "      <th>anjulgarg/2940468-participant-state</th>\n",
       "      <td>2022-08-02 00:00:00+00:00</td>\n",
       "      <td>226.191389</td>\n",
       "    </tr>\n",
       "    <tr>\n",
       "      <th>...</th>\n",
       "      <td>...</td>\n",
       "      <td>...</td>\n",
       "    </tr>\n",
       "    <tr>\n",
       "      <th>prprabhu/rush-use-workspaces</th>\n",
       "      <td>2022-07-18 00:00:00+00:00</td>\n",
       "      <td>531.557500</td>\n",
       "    </tr>\n",
       "    <tr>\n",
       "      <th>prprabhu/scratch-cc-dialpad</th>\n",
       "      <td>2022-07-21 00:00:00+00:00</td>\n",
       "      <td>191.759444</td>\n",
       "    </tr>\n",
       "    <tr>\n",
       "      <th>prprabhu/skip-sb-on-stable</th>\n",
       "      <td>2022-07-21 00:00:00+00:00</td>\n",
       "      <td>229.775000</td>\n",
       "    </tr>\n",
       "    <tr>\n",
       "      <th>prprabhu/tiny-prerelease-action-fix</th>\n",
       "      <td>2022-06-29 00:00:00+00:00</td>\n",
       "      <td>3278.073333</td>\n",
       "    </tr>\n",
       "    <tr>\n",
       "      <th>release/1.3.1-beta.1-setCI</th>\n",
       "      <td>2022-07-07 00:00:00+00:00</td>\n",
       "      <td>124.632222</td>\n",
       "    </tr>\n",
       "  </tbody>\n",
       "</table>\n",
       "<p>111 rows × 2 columns</p>\n",
       "</div>"
      ],
      "text/plain": [
       "                                                     first_job_started_date  \\\n",
       "workflow_head_branch                                                          \n",
       "alkwa/endcall-PoC                                 2022-07-19 00:00:00+00:00   \n",
       "alkwa/fix-contextmenu-with-lots-of-participants   2022-06-29 00:00:00+00:00   \n",
       "alkwa/update-js-storybook                         2022-07-26 00:00:00+00:00   \n",
       "anjulgarg/2940249-videotile-call-connection-state 2022-08-02 00:00:00+00:00   \n",
       "anjulgarg/2940468-participant-state               2022-08-02 00:00:00+00:00   \n",
       "...                                                                     ...   \n",
       "prprabhu/rush-use-workspaces                      2022-07-18 00:00:00+00:00   \n",
       "prprabhu/scratch-cc-dialpad                       2022-07-21 00:00:00+00:00   \n",
       "prprabhu/skip-sb-on-stable                        2022-07-21 00:00:00+00:00   \n",
       "prprabhu/tiny-prerelease-action-fix               2022-06-29 00:00:00+00:00   \n",
       "release/1.3.1-beta.1-setCI                        2022-07-07 00:00:00+00:00   \n",
       "\n",
       "                                                   job_duration_hours  \n",
       "workflow_head_branch                                                   \n",
       "alkwa/endcall-PoC                                          243.273333  \n",
       "alkwa/fix-contextmenu-with-lots-of-participants            679.996944  \n",
       "alkwa/update-js-storybook                                  884.169722  \n",
       "anjulgarg/2940249-videotile-call-connection-state          639.963333  \n",
       "anjulgarg/2940468-participant-state                        226.191389  \n",
       "...                                                               ...  \n",
       "prprabhu/rush-use-workspaces                               531.557500  \n",
       "prprabhu/scratch-cc-dialpad                                191.759444  \n",
       "prprabhu/skip-sb-on-stable                                 229.775000  \n",
       "prprabhu/tiny-prerelease-action-fix                       3278.073333  \n",
       "release/1.3.1-beta.1-setCI                                 124.632222  \n",
       "\n",
       "[111 rows x 2 columns]"
      ]
     },
     "execution_count": 64,
     "metadata": {},
     "output_type": "execute_result"
    }
   ],
   "source": [
    "# Summarize for each branch\n",
    "df = e2e_jobs_with_branch[['job_started_date', 'workflow_head_branch']].copy()\n",
    "df['job_duration_hours'] = e2e_jobs_with_branch['job_duration'].map(lambda x: x.total_seconds() / 3600)\n",
    "df = df.groupby(['workflow_head_branch']).apply(lambda s: pd.Series({\n",
    "    'first_job_started_date': s['job_started_date'].min(),\n",
    "    'job_duration_hours': s['job_duration_hours'].sum(),\n",
    "}))\n",
    "e2e_jobs_runtimes = df\n",
    "df"
   ]
  },
  {
   "cell_type": "code",
   "execution_count": 66,
   "metadata": {},
   "outputs": [
    {
     "data": {
      "application/vnd.plotly.v1+json": {
       "config": {
        "plotlyServerURL": "https://plot.ly"
       },
       "data": [
        {
         "hovertemplate": "%ile=50<br>first_job_started_date=%{x}<br>Runtime (hours)=%{y}<extra></extra>",
         "legendgroup": "50",
         "line": {
          "color": "#636efa",
          "dash": "solid"
         },
         "marker": {
          "symbol": "circle"
         },
         "mode": "markers+lines",
         "name": "50",
         "orientation": "v",
         "showlegend": true,
         "type": "scatter",
         "x": [
          "2022-06-27T00:00:00+00:00",
          "2022-06-28T00:00:00+00:00",
          "2022-06-29T00:00:00+00:00",
          "2022-06-30T00:00:00+00:00",
          "2022-07-04T00:00:00+00:00",
          "2022-07-05T00:00:00+00:00",
          "2022-07-06T00:00:00+00:00",
          "2022-07-07T00:00:00+00:00",
          "2022-07-08T00:00:00+00:00",
          "2022-07-11T00:00:00+00:00",
          "2022-07-12T00:00:00+00:00",
          "2022-07-13T00:00:00+00:00",
          "2022-07-14T00:00:00+00:00",
          "2022-07-15T00:00:00+00:00",
          "2022-07-16T00:00:00+00:00",
          "2022-07-18T00:00:00+00:00",
          "2022-07-19T00:00:00+00:00",
          "2022-07-20T00:00:00+00:00",
          "2022-07-21T00:00:00+00:00",
          "2022-07-22T00:00:00+00:00",
          "2022-07-25T00:00:00+00:00",
          "2022-07-26T00:00:00+00:00",
          "2022-07-27T00:00:00+00:00",
          "2022-07-28T00:00:00+00:00",
          "2022-07-29T00:00:00+00:00",
          "2022-08-02T00:00:00+00:00",
          "2022-08-03T00:00:00+00:00"
         ],
         "xaxis": "x",
         "y": [
          998.193888888889,
          1971.7969444444443,
          1161.8758333333333,
          126.05166666666668,
          857.8233333333333,
          2830.1925,
          1399.8756944444444,
          538.01,
          1152.3997222222224,
          139.75,
          1865.631111111111,
          963.5161111111112,
          893.0813888888888,
          1292.9016666666666,
          1416.955,
          524.4277777777777,
          652.6663888888888,
          729.4563888888889,
          896.0466666666666,
          253.1305555555556,
          1247.5011111111112,
          596.8788888888889,
          299.93916666666667,
          191.69333333333333,
          358.40999999999997,
          433.07736111111114,
          1272.0852777777777
         ],
         "yaxis": "y"
        },
        {
         "hovertemplate": "%ile=90<br>first_job_started_date=%{x}<br>Runtime (hours)=%{y}<extra></extra>",
         "legendgroup": "90",
         "line": {
          "color": "#EF553B",
          "dash": "solid"
         },
         "marker": {
          "symbol": "circle"
         },
         "mode": "markers+lines",
         "name": "90",
         "orientation": "v",
         "showlegend": true,
         "type": "scatter",
         "x": [
          "2022-06-27T00:00:00+00:00",
          "2022-06-28T00:00:00+00:00",
          "2022-06-29T00:00:00+00:00",
          "2022-06-30T00:00:00+00:00",
          "2022-07-04T00:00:00+00:00",
          "2022-07-05T00:00:00+00:00",
          "2022-07-06T00:00:00+00:00",
          "2022-07-07T00:00:00+00:00",
          "2022-07-08T00:00:00+00:00",
          "2022-07-11T00:00:00+00:00",
          "2022-07-12T00:00:00+00:00",
          "2022-07-13T00:00:00+00:00",
          "2022-07-14T00:00:00+00:00",
          "2022-07-15T00:00:00+00:00",
          "2022-07-16T00:00:00+00:00",
          "2022-07-18T00:00:00+00:00",
          "2022-07-19T00:00:00+00:00",
          "2022-07-20T00:00:00+00:00",
          "2022-07-21T00:00:00+00:00",
          "2022-07-22T00:00:00+00:00",
          "2022-07-25T00:00:00+00:00",
          "2022-07-26T00:00:00+00:00",
          "2022-07-27T00:00:00+00:00",
          "2022-07-28T00:00:00+00:00",
          "2022-07-29T00:00:00+00:00",
          "2022-08-02T00:00:00+00:00",
          "2022-08-03T00:00:00+00:00"
         ],
         "xaxis": "x",
         "y": [
          14943.95311111111,
          4701.852944444447,
          3599.796777777778,
          126.05166666666668,
          1182.7393333333332,
          4479.169611111111,
          3846.986611111111,
          1725.3485555555558,
          2522.4044444444444,
          139.75,
          4910.114583333333,
          1512.9972222222223,
          4096.295333333334,
          2153.367888888889,
          1416.955,
          963.140277777778,
          979.3504444444443,
          2409.0848611111114,
          3300.981777777778,
          522.1936666666667,
          1695.1868055555556,
          804.3669722222222,
          410.19394444444447,
          509.31911111111106,
          358.40999999999997,
          598.586138888889,
          1272.0852777777777
         ],
         "yaxis": "y"
        },
        {
         "hovertemplate": "%ile=95<br>first_job_started_date=%{x}<br>Runtime (hours)=%{y}<extra></extra>",
         "legendgroup": "95",
         "line": {
          "color": "#00cc96",
          "dash": "solid"
         },
         "marker": {
          "symbol": "circle"
         },
         "mode": "markers+lines",
         "name": "95",
         "orientation": "v",
         "showlegend": true,
         "type": "scatter",
         "x": [
          "2022-06-27T00:00:00+00:00",
          "2022-06-28T00:00:00+00:00",
          "2022-06-29T00:00:00+00:00",
          "2022-06-30T00:00:00+00:00",
          "2022-07-04T00:00:00+00:00",
          "2022-07-05T00:00:00+00:00",
          "2022-07-06T00:00:00+00:00",
          "2022-07-07T00:00:00+00:00",
          "2022-07-08T00:00:00+00:00",
          "2022-07-11T00:00:00+00:00",
          "2022-07-12T00:00:00+00:00",
          "2022-07-13T00:00:00+00:00",
          "2022-07-14T00:00:00+00:00",
          "2022-07-15T00:00:00+00:00",
          "2022-07-16T00:00:00+00:00",
          "2022-07-18T00:00:00+00:00",
          "2022-07-19T00:00:00+00:00",
          "2022-07-20T00:00:00+00:00",
          "2022-07-21T00:00:00+00:00",
          "2022-07-22T00:00:00+00:00",
          "2022-07-25T00:00:00+00:00",
          "2022-07-26T00:00:00+00:00",
          "2022-07-27T00:00:00+00:00",
          "2022-07-28T00:00:00+00:00",
          "2022-07-29T00:00:00+00:00",
          "2022-08-02T00:00:00+00:00",
          "2022-08-03T00:00:00+00:00"
         ],
         "xaxis": "x",
         "y": [
          19475.16766666666,
          5783.288277777776,
          4243.243666666666,
          126.05166666666668,
          1223.3538333333331,
          4685.29175,
          4292.188861111109,
          2097.4328888888886,
          2730.9219444444434,
          139.75,
          5503.544930555555,
          1581.682361111111,
          4778.841833333332,
          2260.9261666666666,
          1416.955,
          1227.2894444444437,
          1006.4124444444443,
          3146.0324305555555,
          3648.9431111111103,
          555.8265555555555,
          1701.1074305555555,
          844.268347222222,
          429.3043333333333,
          549.0223333333332,
          358.40999999999997,
          619.2747361111111,
          1272.0852777777777
         ],
         "yaxis": "y"
        }
       ],
       "layout": {
        "legend": {
         "title": {
          "text": "%ile"
         },
         "tracegroupgap": 0
        },
        "template": {
         "data": {
          "bar": [
           {
            "error_x": {
             "color": "#2a3f5f"
            },
            "error_y": {
             "color": "#2a3f5f"
            },
            "marker": {
             "line": {
              "color": "#E5ECF6",
              "width": 0.5
             },
             "pattern": {
              "fillmode": "overlay",
              "size": 10,
              "solidity": 0.2
             }
            },
            "type": "bar"
           }
          ],
          "barpolar": [
           {
            "marker": {
             "line": {
              "color": "#E5ECF6",
              "width": 0.5
             },
             "pattern": {
              "fillmode": "overlay",
              "size": 10,
              "solidity": 0.2
             }
            },
            "type": "barpolar"
           }
          ],
          "carpet": [
           {
            "aaxis": {
             "endlinecolor": "#2a3f5f",
             "gridcolor": "white",
             "linecolor": "white",
             "minorgridcolor": "white",
             "startlinecolor": "#2a3f5f"
            },
            "baxis": {
             "endlinecolor": "#2a3f5f",
             "gridcolor": "white",
             "linecolor": "white",
             "minorgridcolor": "white",
             "startlinecolor": "#2a3f5f"
            },
            "type": "carpet"
           }
          ],
          "choropleth": [
           {
            "colorbar": {
             "outlinewidth": 0,
             "ticks": ""
            },
            "type": "choropleth"
           }
          ],
          "contour": [
           {
            "colorbar": {
             "outlinewidth": 0,
             "ticks": ""
            },
            "colorscale": [
             [
              0,
              "#0d0887"
             ],
             [
              0.1111111111111111,
              "#46039f"
             ],
             [
              0.2222222222222222,
              "#7201a8"
             ],
             [
              0.3333333333333333,
              "#9c179e"
             ],
             [
              0.4444444444444444,
              "#bd3786"
             ],
             [
              0.5555555555555556,
              "#d8576b"
             ],
             [
              0.6666666666666666,
              "#ed7953"
             ],
             [
              0.7777777777777778,
              "#fb9f3a"
             ],
             [
              0.8888888888888888,
              "#fdca26"
             ],
             [
              1,
              "#f0f921"
             ]
            ],
            "type": "contour"
           }
          ],
          "contourcarpet": [
           {
            "colorbar": {
             "outlinewidth": 0,
             "ticks": ""
            },
            "type": "contourcarpet"
           }
          ],
          "heatmap": [
           {
            "colorbar": {
             "outlinewidth": 0,
             "ticks": ""
            },
            "colorscale": [
             [
              0,
              "#0d0887"
             ],
             [
              0.1111111111111111,
              "#46039f"
             ],
             [
              0.2222222222222222,
              "#7201a8"
             ],
             [
              0.3333333333333333,
              "#9c179e"
             ],
             [
              0.4444444444444444,
              "#bd3786"
             ],
             [
              0.5555555555555556,
              "#d8576b"
             ],
             [
              0.6666666666666666,
              "#ed7953"
             ],
             [
              0.7777777777777778,
              "#fb9f3a"
             ],
             [
              0.8888888888888888,
              "#fdca26"
             ],
             [
              1,
              "#f0f921"
             ]
            ],
            "type": "heatmap"
           }
          ],
          "heatmapgl": [
           {
            "colorbar": {
             "outlinewidth": 0,
             "ticks": ""
            },
            "colorscale": [
             [
              0,
              "#0d0887"
             ],
             [
              0.1111111111111111,
              "#46039f"
             ],
             [
              0.2222222222222222,
              "#7201a8"
             ],
             [
              0.3333333333333333,
              "#9c179e"
             ],
             [
              0.4444444444444444,
              "#bd3786"
             ],
             [
              0.5555555555555556,
              "#d8576b"
             ],
             [
              0.6666666666666666,
              "#ed7953"
             ],
             [
              0.7777777777777778,
              "#fb9f3a"
             ],
             [
              0.8888888888888888,
              "#fdca26"
             ],
             [
              1,
              "#f0f921"
             ]
            ],
            "type": "heatmapgl"
           }
          ],
          "histogram": [
           {
            "marker": {
             "pattern": {
              "fillmode": "overlay",
              "size": 10,
              "solidity": 0.2
             }
            },
            "type": "histogram"
           }
          ],
          "histogram2d": [
           {
            "colorbar": {
             "outlinewidth": 0,
             "ticks": ""
            },
            "colorscale": [
             [
              0,
              "#0d0887"
             ],
             [
              0.1111111111111111,
              "#46039f"
             ],
             [
              0.2222222222222222,
              "#7201a8"
             ],
             [
              0.3333333333333333,
              "#9c179e"
             ],
             [
              0.4444444444444444,
              "#bd3786"
             ],
             [
              0.5555555555555556,
              "#d8576b"
             ],
             [
              0.6666666666666666,
              "#ed7953"
             ],
             [
              0.7777777777777778,
              "#fb9f3a"
             ],
             [
              0.8888888888888888,
              "#fdca26"
             ],
             [
              1,
              "#f0f921"
             ]
            ],
            "type": "histogram2d"
           }
          ],
          "histogram2dcontour": [
           {
            "colorbar": {
             "outlinewidth": 0,
             "ticks": ""
            },
            "colorscale": [
             [
              0,
              "#0d0887"
             ],
             [
              0.1111111111111111,
              "#46039f"
             ],
             [
              0.2222222222222222,
              "#7201a8"
             ],
             [
              0.3333333333333333,
              "#9c179e"
             ],
             [
              0.4444444444444444,
              "#bd3786"
             ],
             [
              0.5555555555555556,
              "#d8576b"
             ],
             [
              0.6666666666666666,
              "#ed7953"
             ],
             [
              0.7777777777777778,
              "#fb9f3a"
             ],
             [
              0.8888888888888888,
              "#fdca26"
             ],
             [
              1,
              "#f0f921"
             ]
            ],
            "type": "histogram2dcontour"
           }
          ],
          "mesh3d": [
           {
            "colorbar": {
             "outlinewidth": 0,
             "ticks": ""
            },
            "type": "mesh3d"
           }
          ],
          "parcoords": [
           {
            "line": {
             "colorbar": {
              "outlinewidth": 0,
              "ticks": ""
             }
            },
            "type": "parcoords"
           }
          ],
          "pie": [
           {
            "automargin": true,
            "type": "pie"
           }
          ],
          "scatter": [
           {
            "fillpattern": {
             "fillmode": "overlay",
             "size": 10,
             "solidity": 0.2
            },
            "type": "scatter"
           }
          ],
          "scatter3d": [
           {
            "line": {
             "colorbar": {
              "outlinewidth": 0,
              "ticks": ""
             }
            },
            "marker": {
             "colorbar": {
              "outlinewidth": 0,
              "ticks": ""
             }
            },
            "type": "scatter3d"
           }
          ],
          "scattercarpet": [
           {
            "marker": {
             "colorbar": {
              "outlinewidth": 0,
              "ticks": ""
             }
            },
            "type": "scattercarpet"
           }
          ],
          "scattergeo": [
           {
            "marker": {
             "colorbar": {
              "outlinewidth": 0,
              "ticks": ""
             }
            },
            "type": "scattergeo"
           }
          ],
          "scattergl": [
           {
            "marker": {
             "colorbar": {
              "outlinewidth": 0,
              "ticks": ""
             }
            },
            "type": "scattergl"
           }
          ],
          "scattermapbox": [
           {
            "marker": {
             "colorbar": {
              "outlinewidth": 0,
              "ticks": ""
             }
            },
            "type": "scattermapbox"
           }
          ],
          "scatterpolar": [
           {
            "marker": {
             "colorbar": {
              "outlinewidth": 0,
              "ticks": ""
             }
            },
            "type": "scatterpolar"
           }
          ],
          "scatterpolargl": [
           {
            "marker": {
             "colorbar": {
              "outlinewidth": 0,
              "ticks": ""
             }
            },
            "type": "scatterpolargl"
           }
          ],
          "scatterternary": [
           {
            "marker": {
             "colorbar": {
              "outlinewidth": 0,
              "ticks": ""
             }
            },
            "type": "scatterternary"
           }
          ],
          "surface": [
           {
            "colorbar": {
             "outlinewidth": 0,
             "ticks": ""
            },
            "colorscale": [
             [
              0,
              "#0d0887"
             ],
             [
              0.1111111111111111,
              "#46039f"
             ],
             [
              0.2222222222222222,
              "#7201a8"
             ],
             [
              0.3333333333333333,
              "#9c179e"
             ],
             [
              0.4444444444444444,
              "#bd3786"
             ],
             [
              0.5555555555555556,
              "#d8576b"
             ],
             [
              0.6666666666666666,
              "#ed7953"
             ],
             [
              0.7777777777777778,
              "#fb9f3a"
             ],
             [
              0.8888888888888888,
              "#fdca26"
             ],
             [
              1,
              "#f0f921"
             ]
            ],
            "type": "surface"
           }
          ],
          "table": [
           {
            "cells": {
             "fill": {
              "color": "#EBF0F8"
             },
             "line": {
              "color": "white"
             }
            },
            "header": {
             "fill": {
              "color": "#C8D4E3"
             },
             "line": {
              "color": "white"
             }
            },
            "type": "table"
           }
          ]
         },
         "layout": {
          "annotationdefaults": {
           "arrowcolor": "#2a3f5f",
           "arrowhead": 0,
           "arrowwidth": 1
          },
          "autotypenumbers": "strict",
          "coloraxis": {
           "colorbar": {
            "outlinewidth": 0,
            "ticks": ""
           }
          },
          "colorscale": {
           "diverging": [
            [
             0,
             "#8e0152"
            ],
            [
             0.1,
             "#c51b7d"
            ],
            [
             0.2,
             "#de77ae"
            ],
            [
             0.3,
             "#f1b6da"
            ],
            [
             0.4,
             "#fde0ef"
            ],
            [
             0.5,
             "#f7f7f7"
            ],
            [
             0.6,
             "#e6f5d0"
            ],
            [
             0.7,
             "#b8e186"
            ],
            [
             0.8,
             "#7fbc41"
            ],
            [
             0.9,
             "#4d9221"
            ],
            [
             1,
             "#276419"
            ]
           ],
           "sequential": [
            [
             0,
             "#0d0887"
            ],
            [
             0.1111111111111111,
             "#46039f"
            ],
            [
             0.2222222222222222,
             "#7201a8"
            ],
            [
             0.3333333333333333,
             "#9c179e"
            ],
            [
             0.4444444444444444,
             "#bd3786"
            ],
            [
             0.5555555555555556,
             "#d8576b"
            ],
            [
             0.6666666666666666,
             "#ed7953"
            ],
            [
             0.7777777777777778,
             "#fb9f3a"
            ],
            [
             0.8888888888888888,
             "#fdca26"
            ],
            [
             1,
             "#f0f921"
            ]
           ],
           "sequentialminus": [
            [
             0,
             "#0d0887"
            ],
            [
             0.1111111111111111,
             "#46039f"
            ],
            [
             0.2222222222222222,
             "#7201a8"
            ],
            [
             0.3333333333333333,
             "#9c179e"
            ],
            [
             0.4444444444444444,
             "#bd3786"
            ],
            [
             0.5555555555555556,
             "#d8576b"
            ],
            [
             0.6666666666666666,
             "#ed7953"
            ],
            [
             0.7777777777777778,
             "#fb9f3a"
            ],
            [
             0.8888888888888888,
             "#fdca26"
            ],
            [
             1,
             "#f0f921"
            ]
           ]
          },
          "colorway": [
           "#636efa",
           "#EF553B",
           "#00cc96",
           "#ab63fa",
           "#FFA15A",
           "#19d3f3",
           "#FF6692",
           "#B6E880",
           "#FF97FF",
           "#FECB52"
          ],
          "font": {
           "color": "#2a3f5f"
          },
          "geo": {
           "bgcolor": "white",
           "lakecolor": "white",
           "landcolor": "#E5ECF6",
           "showlakes": true,
           "showland": true,
           "subunitcolor": "white"
          },
          "hoverlabel": {
           "align": "left"
          },
          "hovermode": "closest",
          "mapbox": {
           "style": "light"
          },
          "paper_bgcolor": "white",
          "plot_bgcolor": "#E5ECF6",
          "polar": {
           "angularaxis": {
            "gridcolor": "white",
            "linecolor": "white",
            "ticks": ""
           },
           "bgcolor": "#E5ECF6",
           "radialaxis": {
            "gridcolor": "white",
            "linecolor": "white",
            "ticks": ""
           }
          },
          "scene": {
           "xaxis": {
            "backgroundcolor": "#E5ECF6",
            "gridcolor": "white",
            "gridwidth": 2,
            "linecolor": "white",
            "showbackground": true,
            "ticks": "",
            "zerolinecolor": "white"
           },
           "yaxis": {
            "backgroundcolor": "#E5ECF6",
            "gridcolor": "white",
            "gridwidth": 2,
            "linecolor": "white",
            "showbackground": true,
            "ticks": "",
            "zerolinecolor": "white"
           },
           "zaxis": {
            "backgroundcolor": "#E5ECF6",
            "gridcolor": "white",
            "gridwidth": 2,
            "linecolor": "white",
            "showbackground": true,
            "ticks": "",
            "zerolinecolor": "white"
           }
          },
          "shapedefaults": {
           "line": {
            "color": "#2a3f5f"
           }
          },
          "ternary": {
           "aaxis": {
            "gridcolor": "white",
            "linecolor": "white",
            "ticks": ""
           },
           "baxis": {
            "gridcolor": "white",
            "linecolor": "white",
            "ticks": ""
           },
           "bgcolor": "#E5ECF6",
           "caxis": {
            "gridcolor": "white",
            "linecolor": "white",
            "ticks": ""
           }
          },
          "title": {
           "x": 0.05
          },
          "xaxis": {
           "automargin": true,
           "gridcolor": "white",
           "linecolor": "white",
           "ticks": "",
           "title": {
            "standoff": 15
           },
           "zerolinecolor": "white",
           "zerolinewidth": 2
          },
          "yaxis": {
           "automargin": true,
           "gridcolor": "white",
           "linecolor": "white",
           "ticks": "",
           "title": {
            "standoff": 15
           },
           "zerolinecolor": "white",
           "zerolinewidth": 2
          }
         }
        },
        "title": {
         "text": "Bot time spent in e2e CI step for each PR"
        },
        "xaxis": {
         "anchor": "y",
         "domain": [
          0,
          1
         ],
         "title": {
          "text": "first_job_started_date"
         }
        },
        "yaxis": {
         "anchor": "x",
         "domain": [
          0,
          1
         ],
         "title": {
          "text": "Runtime (hours)"
         }
        }
       }
      }
     },
     "metadata": {},
     "output_type": "display_data"
    }
   ],
   "source": [
    "df = e2e_jobs_runtimes    \n",
    "df = df.groupby(['first_job_started_date']).apply(lambda s: pd.Series({\n",
    "    '50': s['job_duration_hours'].quantile(0.5),\n",
    "    '90': s['job_duration_hours'].quantile(0.9),\n",
    "    '95': s['job_duration_hours'].quantile(0.95),\n",
    "}))\n",
    "fig = df.plot(title='Bot time spent in e2e CI step for each PR', labels=dict(index='PR creation date', value='Runtime (hours)', variable='%ile'))\n",
    "fig.update_traces(mode='markers+lines')\n",
    "fig.show()"
   ]
  }
 ],
 "metadata": {
  "kernelspec": {
   "display_name": "Python 3.10.5 ('e2eanalysis')",
   "language": "python",
   "name": "python3"
  },
  "language_info": {
   "codemirror_mode": {
    "name": "ipython",
    "version": 3
   },
   "file_extension": ".py",
   "mimetype": "text/x-python",
   "name": "python",
   "nbconvert_exporter": "python",
   "pygments_lexer": "ipython3",
   "version": "3.10.5"
  },
  "orig_nbformat": 4,
  "vscode": {
   "interpreter": {
    "hash": "c3b05de2005fd981399e64c7fa718f103e153aa6eb6a36e3fed7a3ca3494229e"
   }
  }
 },
 "nbformat": 4,
 "nbformat_minor": 2
}
